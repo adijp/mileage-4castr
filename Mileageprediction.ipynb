{
 "cells": [
  {
   "cell_type": "markdown",
   "metadata": {},
   "source": [
    "# Mileage Prediction Problem"
   ]
  },
  {
   "cell_type": "markdown",
   "metadata": {},
   "source": [
    " This project aims to predict the mileage of cars based on features - cylinders, displacement, hp, weight, acceleration, model, origin and name.\n",
    " \n",
    " \n",
    "We shall look at several methods from simple to more complex models to increase accuracy. Some of these models are: \n",
    "\n",
    "- Simple Regression\n",
    "- Multiple Regression\n",
    "- Ridge Regression\n",
    "- K-Means Clustering\n",
    "\n",
    "The data was obtained from  [UCI Machine Learning Repository](http://archive.ics.uci.edu/ml/datasets/Auto+MPG)\n",
    "There were about six rows with incomplete information which I deleted before I converted it to a .csv file. \n",
    "\n",
    "I'm going to use Graphlab to help me with the implementation of these models. "
   ]
  },
  {
   "cell_type": "code",
   "execution_count": 5,
   "metadata": {
    "collapsed": true
   },
   "outputs": [],
   "source": [
    "import graphlab #Imports graphlab - If you haven't installed graplab, https://dato.com/download/"
   ]
  },
  {
   "cell_type": "markdown",
   "metadata": {},
   "source": [
    "## Loading data"
   ]
  },
  {
   "cell_type": "code",
   "execution_count": 6,
   "metadata": {
    "collapsed": false
   },
   "outputs": [
    {
     "name": "stderr",
     "output_type": "stream",
     "text": [
      "2016-05-17 19:20:19,609 [INFO] graphlab.cython.cy_server, 176: GraphLab Create v1.9 started. Logging: /tmp/graphlab_server_1463527218.log\n"
     ]
    },
    {
     "data": {
      "text/html": [
       "<pre>Finished parsing file /Users/adityajp/Desktop/ML course/Mileage project/auto-mpg.csv</pre>"
      ],
      "text/plain": [
       "Finished parsing file /Users/adityajp/Desktop/ML course/Mileage project/auto-mpg.csv"
      ]
     },
     "metadata": {},
     "output_type": "display_data"
    },
    {
     "data": {
      "text/html": [
       "<pre>Parsing completed. Parsed 100 lines in 0.032468 secs.</pre>"
      ],
      "text/plain": [
       "Parsing completed. Parsed 100 lines in 0.032468 secs."
      ]
     },
     "metadata": {},
     "output_type": "display_data"
    },
    {
     "name": "stdout",
     "output_type": "stream",
     "text": [
      "This non-commercial license of GraphLab Create is assigned to ajayapra@uwaterloo.ca and will expire on January 25, 2017. For commercial licensing options, visit https://dato.com/buy/.\n",
      "------------------------------------------------------"
     ]
    },
    {
     "data": {
      "text/html": [
       "<pre>Finished parsing file /Users/adityajp/Desktop/ML course/Mileage project/auto-mpg.csv</pre>"
      ],
      "text/plain": [
       "Finished parsing file /Users/adityajp/Desktop/ML course/Mileage project/auto-mpg.csv"
      ]
     },
     "metadata": {},
     "output_type": "display_data"
    },
    {
     "data": {
      "text/html": [
       "<pre>Parsing completed. Parsed 392 lines in 0.014968 secs.</pre>"
      ],
      "text/plain": [
       "Parsing completed. Parsed 392 lines in 0.014968 secs."
      ]
     },
     "metadata": {},
     "output_type": "display_data"
    },
    {
     "name": "stdout",
     "output_type": "stream",
     "text": [
      "\n",
      "Inferred types from first 100 line(s) of file as \n",
      "column_type_hints=[int,int,float,int,int,float,int,int,str]\n",
      "If parsing fails due to incorrect types, you can correct\n",
      "the inferred type list above and pass it to read_csv in\n",
      "the column_type_hints argument\n",
      "------------------------------------------------------\n"
     ]
    }
   ],
   "source": [
    "data = graphlab.SFrame('auto-mpg.csv') #Loads data and creates an SFrame (A datastructure which Graphlab uses)"
   ]
  },
  {
   "cell_type": "code",
   "execution_count": 4,
   "metadata": {
    "collapsed": false
   },
   "outputs": [
    {
     "data": {
      "text/html": [
       "<div style=\"max-height:1000px;max-width:1500px;overflow:auto;\"><table frame=\"box\" rules=\"cols\">\n",
       "    <tr>\n",
       "        <th style=\"padding-left: 1em; padding-right: 1em; text-align: center\">mpg</th>\n",
       "        <th style=\"padding-left: 1em; padding-right: 1em; text-align: center\">cylinders</th>\n",
       "        <th style=\"padding-left: 1em; padding-right: 1em; text-align: center\">displacement</th>\n",
       "        <th style=\"padding-left: 1em; padding-right: 1em; text-align: center\">hp</th>\n",
       "        <th style=\"padding-left: 1em; padding-right: 1em; text-align: center\">weight</th>\n",
       "        <th style=\"padding-left: 1em; padding-right: 1em; text-align: center\">acceleration</th>\n",
       "        <th style=\"padding-left: 1em; padding-right: 1em; text-align: center\">model year</th>\n",
       "        <th style=\"padding-left: 1em; padding-right: 1em; text-align: center\">origin</th>\n",
       "        <th style=\"padding-left: 1em; padding-right: 1em; text-align: center\">name</th>\n",
       "    </tr>\n",
       "    <tr>\n",
       "        <td style=\"padding-left: 1em; padding-right: 1em; text-align: center; vertical-align: top\">18</td>\n",
       "        <td style=\"padding-left: 1em; padding-right: 1em; text-align: center; vertical-align: top\">8</td>\n",
       "        <td style=\"padding-left: 1em; padding-right: 1em; text-align: center; vertical-align: top\">307.0</td>\n",
       "        <td style=\"padding-left: 1em; padding-right: 1em; text-align: center; vertical-align: top\">130</td>\n",
       "        <td style=\"padding-left: 1em; padding-right: 1em; text-align: center; vertical-align: top\">3504</td>\n",
       "        <td style=\"padding-left: 1em; padding-right: 1em; text-align: center; vertical-align: top\">12.0</td>\n",
       "        <td style=\"padding-left: 1em; padding-right: 1em; text-align: center; vertical-align: top\">70</td>\n",
       "        <td style=\"padding-left: 1em; padding-right: 1em; text-align: center; vertical-align: top\">1</td>\n",
       "        <td style=\"padding-left: 1em; padding-right: 1em; text-align: center; vertical-align: top\">\"chevrolet chevelle<br>malibu\" ...</td>\n",
       "    </tr>\n",
       "    <tr>\n",
       "        <td style=\"padding-left: 1em; padding-right: 1em; text-align: center; vertical-align: top\">15</td>\n",
       "        <td style=\"padding-left: 1em; padding-right: 1em; text-align: center; vertical-align: top\">8</td>\n",
       "        <td style=\"padding-left: 1em; padding-right: 1em; text-align: center; vertical-align: top\">350.0</td>\n",
       "        <td style=\"padding-left: 1em; padding-right: 1em; text-align: center; vertical-align: top\">165</td>\n",
       "        <td style=\"padding-left: 1em; padding-right: 1em; text-align: center; vertical-align: top\">3693</td>\n",
       "        <td style=\"padding-left: 1em; padding-right: 1em; text-align: center; vertical-align: top\">11.5</td>\n",
       "        <td style=\"padding-left: 1em; padding-right: 1em; text-align: center; vertical-align: top\">70</td>\n",
       "        <td style=\"padding-left: 1em; padding-right: 1em; text-align: center; vertical-align: top\">1</td>\n",
       "        <td style=\"padding-left: 1em; padding-right: 1em; text-align: center; vertical-align: top\">\"buick skylark 320\"</td>\n",
       "    </tr>\n",
       "    <tr>\n",
       "        <td style=\"padding-left: 1em; padding-right: 1em; text-align: center; vertical-align: top\">18</td>\n",
       "        <td style=\"padding-left: 1em; padding-right: 1em; text-align: center; vertical-align: top\">8</td>\n",
       "        <td style=\"padding-left: 1em; padding-right: 1em; text-align: center; vertical-align: top\">318.0</td>\n",
       "        <td style=\"padding-left: 1em; padding-right: 1em; text-align: center; vertical-align: top\">150</td>\n",
       "        <td style=\"padding-left: 1em; padding-right: 1em; text-align: center; vertical-align: top\">3436</td>\n",
       "        <td style=\"padding-left: 1em; padding-right: 1em; text-align: center; vertical-align: top\">11.0</td>\n",
       "        <td style=\"padding-left: 1em; padding-right: 1em; text-align: center; vertical-align: top\">70</td>\n",
       "        <td style=\"padding-left: 1em; padding-right: 1em; text-align: center; vertical-align: top\">1</td>\n",
       "        <td style=\"padding-left: 1em; padding-right: 1em; text-align: center; vertical-align: top\">\"plymouth satellite\"</td>\n",
       "    </tr>\n",
       "    <tr>\n",
       "        <td style=\"padding-left: 1em; padding-right: 1em; text-align: center; vertical-align: top\">16</td>\n",
       "        <td style=\"padding-left: 1em; padding-right: 1em; text-align: center; vertical-align: top\">8</td>\n",
       "        <td style=\"padding-left: 1em; padding-right: 1em; text-align: center; vertical-align: top\">304.0</td>\n",
       "        <td style=\"padding-left: 1em; padding-right: 1em; text-align: center; vertical-align: top\">150</td>\n",
       "        <td style=\"padding-left: 1em; padding-right: 1em; text-align: center; vertical-align: top\">3433</td>\n",
       "        <td style=\"padding-left: 1em; padding-right: 1em; text-align: center; vertical-align: top\">12.0</td>\n",
       "        <td style=\"padding-left: 1em; padding-right: 1em; text-align: center; vertical-align: top\">70</td>\n",
       "        <td style=\"padding-left: 1em; padding-right: 1em; text-align: center; vertical-align: top\">1</td>\n",
       "        <td style=\"padding-left: 1em; padding-right: 1em; text-align: center; vertical-align: top\">\"amc rebel sst\"</td>\n",
       "    </tr>\n",
       "    <tr>\n",
       "        <td style=\"padding-left: 1em; padding-right: 1em; text-align: center; vertical-align: top\">17</td>\n",
       "        <td style=\"padding-left: 1em; padding-right: 1em; text-align: center; vertical-align: top\">8</td>\n",
       "        <td style=\"padding-left: 1em; padding-right: 1em; text-align: center; vertical-align: top\">302.0</td>\n",
       "        <td style=\"padding-left: 1em; padding-right: 1em; text-align: center; vertical-align: top\">140</td>\n",
       "        <td style=\"padding-left: 1em; padding-right: 1em; text-align: center; vertical-align: top\">3449</td>\n",
       "        <td style=\"padding-left: 1em; padding-right: 1em; text-align: center; vertical-align: top\">10.5</td>\n",
       "        <td style=\"padding-left: 1em; padding-right: 1em; text-align: center; vertical-align: top\">70</td>\n",
       "        <td style=\"padding-left: 1em; padding-right: 1em; text-align: center; vertical-align: top\">1</td>\n",
       "        <td style=\"padding-left: 1em; padding-right: 1em; text-align: center; vertical-align: top\">\"ford torino\"</td>\n",
       "    </tr>\n",
       "    <tr>\n",
       "        <td style=\"padding-left: 1em; padding-right: 1em; text-align: center; vertical-align: top\">15</td>\n",
       "        <td style=\"padding-left: 1em; padding-right: 1em; text-align: center; vertical-align: top\">8</td>\n",
       "        <td style=\"padding-left: 1em; padding-right: 1em; text-align: center; vertical-align: top\">429.0</td>\n",
       "        <td style=\"padding-left: 1em; padding-right: 1em; text-align: center; vertical-align: top\">198</td>\n",
       "        <td style=\"padding-left: 1em; padding-right: 1em; text-align: center; vertical-align: top\">4341</td>\n",
       "        <td style=\"padding-left: 1em; padding-right: 1em; text-align: center; vertical-align: top\">10.0</td>\n",
       "        <td style=\"padding-left: 1em; padding-right: 1em; text-align: center; vertical-align: top\">70</td>\n",
       "        <td style=\"padding-left: 1em; padding-right: 1em; text-align: center; vertical-align: top\">1</td>\n",
       "        <td style=\"padding-left: 1em; padding-right: 1em; text-align: center; vertical-align: top\">\"ford galaxie 500\"</td>\n",
       "    </tr>\n",
       "    <tr>\n",
       "        <td style=\"padding-left: 1em; padding-right: 1em; text-align: center; vertical-align: top\">14</td>\n",
       "        <td style=\"padding-left: 1em; padding-right: 1em; text-align: center; vertical-align: top\">8</td>\n",
       "        <td style=\"padding-left: 1em; padding-right: 1em; text-align: center; vertical-align: top\">454.0</td>\n",
       "        <td style=\"padding-left: 1em; padding-right: 1em; text-align: center; vertical-align: top\">220</td>\n",
       "        <td style=\"padding-left: 1em; padding-right: 1em; text-align: center; vertical-align: top\">4354</td>\n",
       "        <td style=\"padding-left: 1em; padding-right: 1em; text-align: center; vertical-align: top\">9.0</td>\n",
       "        <td style=\"padding-left: 1em; padding-right: 1em; text-align: center; vertical-align: top\">70</td>\n",
       "        <td style=\"padding-left: 1em; padding-right: 1em; text-align: center; vertical-align: top\">1</td>\n",
       "        <td style=\"padding-left: 1em; padding-right: 1em; text-align: center; vertical-align: top\">\"chevrolet impala\"</td>\n",
       "    </tr>\n",
       "    <tr>\n",
       "        <td style=\"padding-left: 1em; padding-right: 1em; text-align: center; vertical-align: top\">14</td>\n",
       "        <td style=\"padding-left: 1em; padding-right: 1em; text-align: center; vertical-align: top\">8</td>\n",
       "        <td style=\"padding-left: 1em; padding-right: 1em; text-align: center; vertical-align: top\">440.0</td>\n",
       "        <td style=\"padding-left: 1em; padding-right: 1em; text-align: center; vertical-align: top\">215</td>\n",
       "        <td style=\"padding-left: 1em; padding-right: 1em; text-align: center; vertical-align: top\">4312</td>\n",
       "        <td style=\"padding-left: 1em; padding-right: 1em; text-align: center; vertical-align: top\">8.5</td>\n",
       "        <td style=\"padding-left: 1em; padding-right: 1em; text-align: center; vertical-align: top\">70</td>\n",
       "        <td style=\"padding-left: 1em; padding-right: 1em; text-align: center; vertical-align: top\">1</td>\n",
       "        <td style=\"padding-left: 1em; padding-right: 1em; text-align: center; vertical-align: top\">\"plymouth fury iii\"</td>\n",
       "    </tr>\n",
       "    <tr>\n",
       "        <td style=\"padding-left: 1em; padding-right: 1em; text-align: center; vertical-align: top\">14</td>\n",
       "        <td style=\"padding-left: 1em; padding-right: 1em; text-align: center; vertical-align: top\">8</td>\n",
       "        <td style=\"padding-left: 1em; padding-right: 1em; text-align: center; vertical-align: top\">455.0</td>\n",
       "        <td style=\"padding-left: 1em; padding-right: 1em; text-align: center; vertical-align: top\">225</td>\n",
       "        <td style=\"padding-left: 1em; padding-right: 1em; text-align: center; vertical-align: top\">4425</td>\n",
       "        <td style=\"padding-left: 1em; padding-right: 1em; text-align: center; vertical-align: top\">10.0</td>\n",
       "        <td style=\"padding-left: 1em; padding-right: 1em; text-align: center; vertical-align: top\">70</td>\n",
       "        <td style=\"padding-left: 1em; padding-right: 1em; text-align: center; vertical-align: top\">1</td>\n",
       "        <td style=\"padding-left: 1em; padding-right: 1em; text-align: center; vertical-align: top\">\"pontiac catalina\"</td>\n",
       "    </tr>\n",
       "    <tr>\n",
       "        <td style=\"padding-left: 1em; padding-right: 1em; text-align: center; vertical-align: top\">15</td>\n",
       "        <td style=\"padding-left: 1em; padding-right: 1em; text-align: center; vertical-align: top\">8</td>\n",
       "        <td style=\"padding-left: 1em; padding-right: 1em; text-align: center; vertical-align: top\">390.0</td>\n",
       "        <td style=\"padding-left: 1em; padding-right: 1em; text-align: center; vertical-align: top\">190</td>\n",
       "        <td style=\"padding-left: 1em; padding-right: 1em; text-align: center; vertical-align: top\">3850</td>\n",
       "        <td style=\"padding-left: 1em; padding-right: 1em; text-align: center; vertical-align: top\">8.5</td>\n",
       "        <td style=\"padding-left: 1em; padding-right: 1em; text-align: center; vertical-align: top\">70</td>\n",
       "        <td style=\"padding-left: 1em; padding-right: 1em; text-align: center; vertical-align: top\">1</td>\n",
       "        <td style=\"padding-left: 1em; padding-right: 1em; text-align: center; vertical-align: top\">\"amc ambassador dpl\"</td>\n",
       "    </tr>\n",
       "</table>\n",
       "[392 rows x 9 columns]<br/>Note: Only the head of the SFrame is printed.<br/>You can use print_rows(num_rows=m, num_columns=n) to print more rows and columns.\n",
       "</div>"
      ],
      "text/plain": [
       "Columns:\n",
       "\tmpg\tint\n",
       "\tcylinders\tint\n",
       "\tdisplacement\tfloat\n",
       "\thp\tint\n",
       "\tweight\tint\n",
       "\tacceleration\tfloat\n",
       "\tmodel year\tint\n",
       "\torigin\tint\n",
       "\tname\tstr\n",
       "\n",
       "Rows: 392\n",
       "\n",
       "Data:\n",
       "+-----+-----------+--------------+-----+--------+--------------+------------+--------+\n",
       "| mpg | cylinders | displacement |  hp | weight | acceleration | model year | origin |\n",
       "+-----+-----------+--------------+-----+--------+--------------+------------+--------+\n",
       "|  18 |     8     |    307.0     | 130 |  3504  |     12.0     |     70     |   1    |\n",
       "|  15 |     8     |    350.0     | 165 |  3693  |     11.5     |     70     |   1    |\n",
       "|  18 |     8     |    318.0     | 150 |  3436  |     11.0     |     70     |   1    |\n",
       "|  16 |     8     |    304.0     | 150 |  3433  |     12.0     |     70     |   1    |\n",
       "|  17 |     8     |    302.0     | 140 |  3449  |     10.5     |     70     |   1    |\n",
       "|  15 |     8     |    429.0     | 198 |  4341  |     10.0     |     70     |   1    |\n",
       "|  14 |     8     |    454.0     | 220 |  4354  |     9.0      |     70     |   1    |\n",
       "|  14 |     8     |    440.0     | 215 |  4312  |     8.5      |     70     |   1    |\n",
       "|  14 |     8     |    455.0     | 225 |  4425  |     10.0     |     70     |   1    |\n",
       "|  15 |     8     |    390.0     | 190 |  3850  |     8.5      |     70     |   1    |\n",
       "+-----+-----------+--------------+-----+--------+--------------+------------+--------+\n",
       "+-----------------------------+\n",
       "|             name            |\n",
       "+-----------------------------+\n",
       "| \"chevrolet chevelle malibu\" |\n",
       "|     \"buick skylark 320\"     |\n",
       "|     \"plymouth satellite\"    |\n",
       "|       \"amc rebel sst\"       |\n",
       "|        \"ford torino\"        |\n",
       "|      \"ford galaxie 500\"     |\n",
       "|      \"chevrolet impala\"     |\n",
       "|     \"plymouth fury iii\"     |\n",
       "|      \"pontiac catalina\"     |\n",
       "|     \"amc ambassador dpl\"    |\n",
       "+-----------------------------+\n",
       "[392 rows x 9 columns]\n",
       "Note: Only the head of the SFrame is printed.\n",
       "You can use print_rows(num_rows=m, num_columns=n) to print more rows and columns."
      ]
     },
     "execution_count": 4,
     "metadata": {},
     "output_type": "execute_result"
    }
   ],
   "source": [
    "data"
   ]
  },
  {
   "cell_type": "markdown",
   "metadata": {},
   "source": [
    "We're going to disregard the name of car and it's origin from our models. I don't feel the cars name or origin is important enough in this model."
   ]
  },
  {
   "cell_type": "markdown",
   "metadata": {},
   "source": [
    "# Plotting data"
   ]
  },
  {
   "cell_type": "markdown",
   "metadata": {},
   "source": [
    "I feel it's somewhat important to plot some of the features against mpg (miles per gallon) to get a sense of data. Let's import pylot from matplotlib which helps with graphing data"
   ]
  },
  {
   "cell_type": "code",
   "execution_count": 7,
   "metadata": {
    "collapsed": true
   },
   "outputs": [],
   "source": [
    "import matplotlib.pyplot as plt\n",
    "%matplotlib inline"
   ]
  },
  {
   "cell_type": "code",
   "execution_count": 88,
   "metadata": {
    "collapsed": false
   },
   "outputs": [
    {
     "data": {
      "text/plain": [
       "<matplotlib.text.Text at 0x11b74aa10>"
      ]
     },
     "execution_count": 88,
     "metadata": {},
     "output_type": "execute_result"
    },
    {
     "data": {
      "image/png": "[encoded data removed]",
      "text/plain": [
       "<matplotlib.figure.Figure at 0x119eba1d0>"
      ]
     },
     "metadata": {},
     "output_type": "display_data"
    }
   ],
   "source": [
    "#Relation between weight and mpg. There certainly seems to be some connection. \n",
    "\n",
    "plt.plot(data['weight'],data['mpg'],'.')\n",
    "plt.title('Weight - mpg')\n",
    "plt.xlabel('Weight')\n",
    "plt.ylabel('MPG')"
   ]
  },
  {
   "cell_type": "code",
   "execution_count": 85,
   "metadata": {
    "collapsed": false
   },
   "outputs": [
    {
     "data": {
      "text/plain": [
       "<matplotlib.text.Text at 0x11b052650>"
      ]
     },
     "execution_count": 85,
     "metadata": {},
     "output_type": "execute_result"
    },
    {
     "data": {
      "image/png": "[encoded data removed]",
      "text/plain": [
       "<matplotlib.figure.Figure at 0x119a23090>"
      ]
     },
     "metadata": {},
     "output_type": "display_data"
    }
   ],
   "source": [
    "\n",
    "#Relation between acceleration and mpg. There's a lot of noise in this data.  \n",
    "\n",
    "plt.plot(data['acceleration'],data['mpg'],'.')\n",
    "plt.title('Acceleration - mpg')\n",
    "plt.xlabel('Acceleration')\n",
    "plt.ylabel('MPG')"
   ]
  },
  {
   "cell_type": "code",
   "execution_count": 86,
   "metadata": {
    "collapsed": false
   },
   "outputs": [
    {
     "data": {
      "text/plain": [
       "<matplotlib.text.Text at 0x118771590>"
      ]
     },
     "execution_count": 86,
     "metadata": {},
     "output_type": "execute_result"
    },
    {
     "data": {
      "image/png": "[encoded data removed]",
      "text/plain": [
       "<matplotlib.figure.Figure at 0x119eba350>"
      ]
     },
     "metadata": {},
     "output_type": "display_data"
    }
   ],
   "source": [
    "#Relation between hp and mpg. There's definitely some correlation.  \n",
    "\n",
    "plt.plot(data['hp'],data['mpg'],'.')\n",
    "plt.title('HP - mpg')\n",
    "plt.xlabel('HP')\n",
    "plt.ylabel('MPG')"
   ]
  },
  {
   "cell_type": "code",
   "execution_count": 87,
   "metadata": {
    "collapsed": false
   },
   "outputs": [
    {
     "data": {
      "text/plain": [
       "<matplotlib.text.Text at 0x11b095350>"
      ]
     },
     "execution_count": 87,
     "metadata": {},
     "output_type": "execute_result"
    },
    {
     "data": {
      "image/png": "[encoded data removed]",
      "text/plain": [
       "<matplotlib.figure.Figure at 0x119dcecd0>"
      ]
     },
     "metadata": {},
     "output_type": "display_data"
    }
   ],
   "source": [
    "#Relation between displacement and mpg. There are gaps in the middle- this doesn't look good. \n",
    "\n",
    "plt.plot(data['displacement'],data['mpg'],'.')\n",
    "plt.title('Displacement - mpg')\n",
    "plt.xlabel('Displacement')\n",
    "plt.ylabel('MPG')"
   ]
  },
  {
   "cell_type": "code",
   "execution_count": 10,
   "metadata": {
    "collapsed": false
   },
   "outputs": [
    {
     "data": {
      "text/plain": [
       "<matplotlib.text.Text at 0x1123640d0>"
      ]
     },
     "execution_count": 10,
     "metadata": {},
     "output_type": "execute_result"
    },
    {
     "data": {
      "image/png": "[encoded data removed]",
      "text/plain": [
       "<matplotlib.figure.Figure at 0x10f33fcd0>"
      ]
     },
     "metadata": {},
     "output_type": "display_data"
    }
   ],
   "source": [
    "#Relation between Cylinder and mpg. It's best to disregard this info as well. \n",
    "\n",
    "plt.plot(data['cylinders'],data['mpg'],'.')\n",
    "plt.title('Cylinders - mpg')\n",
    "plt.xlabel('Cylinders')\n",
    "plt.ylabel('MPG')"
   ]
  },
  {
   "cell_type": "code",
   "execution_count": 89,
   "metadata": {
    "collapsed": false
   },
   "outputs": [
    {
     "data": {
      "text/plain": [
       "<matplotlib.text.Text at 0x11b6db6d0>"
      ]
     },
     "execution_count": 89,
     "metadata": {},
     "output_type": "execute_result"
    },
    {
     "data": {
      "image/png": "[encoded data removed]",
      "text/plain": [
       "<matplotlib.figure.Figure at 0x11878d3d0>"
      ]
     },
     "metadata": {},
     "output_type": "display_data"
    }
   ],
   "source": [
    "#Relation between Model year and mpg. \n",
    "\n",
    "plt.plot(data['model year'],data['mpg'],'.')\n",
    "plt.title('Model year - mpg')\n",
    "plt.xlabel('Model year')\n",
    "plt.ylabel('MPG')"
   ]
  },
  {
   "cell_type": "markdown",
   "metadata": {},
   "source": [
    "From the above graphs, it's clear that weight, hp and displacement add value to our model. \n",
    "\n",
    "The below function returns an SFrame. This will come in handy when we're thinking of higher order polynmials for our features. "
   ]
  },
  {
   "cell_type": "code",
   "execution_count": 11,
   "metadata": {
    "collapsed": true
   },
   "outputs": [],
   "source": [
    "def polynomial_sframe(feature, degree, quantity):\n",
    "    # initialize the SFrame:\n",
    "    sframe = graphlab.SFrame()\n",
    "    #Assign our s_frame the current feature. \n",
    "    sframe[quantity+'power_1'] = feature \n",
    "    # first check if degree > 1\n",
    "    if degree > 1:\n",
    "        # then loop over the remaining degrees:\n",
    "        # We want it to start at 2 and stop at degree\n",
    "        for power in range(2, degree+1): \n",
    "            # first we'll give the column a name:\n",
    "            name = quantity +'power_' + str(power)\n",
    "            # then assign sframe[column_name] to the appropriate power of feature\n",
    "            sframe[name] = feature**power\n",
    "\n",
    "    return sframe"
   ]
  },
  {
   "cell_type": "markdown",
   "metadata": {},
   "source": [
    "# Training, testing and validation data"
   ]
  },
  {
   "cell_type": "markdown",
   "metadata": {},
   "source": [
    "It's important to split our data into three parts, training, testing and validation data. \n",
    "Our model trains on our training data and we run it on models of different complexities - validation data is used to tell us which complexity prevents overfitting. We finally predict testing data on our model to measure model accuracy. \n",
    "\n",
    "Another approach to checking whether our model is overfitted is to use k-cross validation, a measure which is more precise than the above approach. "
   ]
  },
  {
   "cell_type": "code",
   "execution_count": 12,
   "metadata": {
    "collapsed": true
   },
   "outputs": [],
   "source": [
    "(training_and_validation, testing) = data.random_split(0.9,seed=0) #90% for testing and validation and 10% for testing\n",
    "(training, validation) = data.random_split(0.5,seed=0) #90% of our data is evenly split between training and validation"
   ]
  },
  {
   "cell_type": "markdown",
   "metadata": {},
   "source": [
    "# Simple Regression"
   ]
  },
  {
   "cell_type": "code",
   "execution_count": 13,
   "metadata": {
    "collapsed": true
   },
   "outputs": [],
   "source": [
    "def simple_linear_regression(input_feature, output):\n",
    "    # compute the sum of input_feature and output\n",
    "    input_sum = input_feature.sum()\n",
    "    output_sum = output.sum()\n",
    "    n = input_feature.size()\n",
    "    # compute the product of the output and the input_feature and its sum\n",
    "    product_sum = 0\n",
    "    for i in range(0,n):\n",
    "        product_sum+=(input_feature[i]*output[i])\n",
    "    # compute the squared value of the input_feature and its sum\n",
    "    input_square_sum = 0\n",
    "    for i in input_feature:\n",
    "        input_square_sum+=(i*i)\n",
    "    # use the formula for the slope\n",
    "    slope = (product_sum - (input_sum*output_sum/n))/(input_square_sum - input_sum*input_sum/n)\n",
    "    # use the formula for the intercept\n",
    "    intercept = output_sum/n - (slope*input_sum/n)\n",
    "    \n",
    "    return (intercept, slope)\n",
    "\n",
    "def get_regression_predictions(input_feature, intercept, slope):\n",
    "    # calculate the predicted values:\n",
    "    predicted_values = intercept + input_feature*slope\n",
    "    return predicted_values\n",
    "\n",
    "#Residual sum of squares\n",
    "def find_rss(predicted_output,output): \n",
    "    difference = predicted_output - output\n",
    "    #Square each element in the SFrame\n",
    "    difference = difference**2\n",
    "    #Find the sum of all elements\n",
    "    rss = difference.sum() \n",
    "    return rss"
   ]
  },
  {
   "cell_type": "markdown",
   "metadata": {},
   "source": [
    "The point of using simple regression is to use a single feature to predict the house prices. Let's go ahead and see which is the best feature to reduce RSS. "
   ]
  },
  {
   "cell_type": "code",
   "execution_count": 14,
   "metadata": {
    "collapsed": false
   },
   "outputs": [
    {
     "name": "stdout",
     "output_type": "stream",
     "text": [
      "weight :  18243545.0\n",
      "displacement :  448.657038305\n",
      "hp :  20776.0\n"
     ]
    }
   ],
   "source": [
    "for i in ['weight','displacement','hp']:\n",
    "    \n",
    "    #Extract intercept and slope from model which is built on training data\n",
    "    intercept,slope = simple_linear_regression(training[i],training['mpg'])\n",
    "    \n",
    "    #Function which predicts the value from the slope and intercept on testing data\n",
    "    prediction = get_regression_predictions(testing[i], intercept, slope)\n",
    "    \n",
    "    #Finding the RSS\n",
    "    rss = find_rss(prediction,testing['mpg'])\n",
    "    print i, \": \", rss"
   ]
  },
  {
   "cell_type": "markdown",
   "metadata": {},
   "source": [
    "For simple regression, displacement gives the most accurate result i.e., least RSS. \n",
    "\n",
    "Let's plot some of these values and understand the plots. "
   ]
  },
  {
   "cell_type": "code",
   "execution_count": 15,
   "metadata": {
    "collapsed": false
   },
   "outputs": [
    {
     "data": {
      "text/plain": [
       "<matplotlib.text.Text at 0x11a9b3350>"
      ]
     },
     "execution_count": 15,
     "metadata": {},
     "output_type": "execute_result"
    },
    {
     "data": {
      "image/png": "[encoded data removed]",
      "text/plain": [
       "<matplotlib.figure.Figure at 0x11a981410>"
      ]
     },
     "metadata": {},
     "output_type": "display_data"
    }
   ],
   "source": [
    "#Plotting predicted value of mpg from displacement\n",
    "\n",
    "intercept,slope = simple_linear_regression(training['displacement'],training['mpg'])\n",
    "prediction = get_regression_predictions(testing['displacement'], intercept, slope)\n",
    "\n",
    "plt.plot(testing['displacement'],testing['mpg'],'.',\n",
    "        testing['displacement'], prediction,'.')\n",
    "plt.title('Displacement vs mpg')\n",
    "plt.xlabel('Displacement')\n",
    "plt.ylabel('MPG')"
   ]
  },
  {
   "cell_type": "code",
   "execution_count": 16,
   "metadata": {
    "collapsed": false
   },
   "outputs": [
    {
     "data": {
      "text/plain": [
       "<matplotlib.text.Text at 0x11a89a8d0>"
      ]
     },
     "execution_count": 16,
     "metadata": {},
     "output_type": "execute_result"
    },
    {
     "data": {
      "image/png": "[encoded data removed]",
      "text/plain": [
       "<matplotlib.figure.Figure at 0x11a981250>"
      ]
     },
     "metadata": {},
     "output_type": "display_data"
    }
   ],
   "source": [
    "#Plotting predicted value of mpg from weight. Clearly doesn't fit. \n",
    "\n",
    "\n",
    "intercept,slope = simple_linear_regression(training['weight'],training['mpg'])\n",
    "prediction = get_regression_predictions(testing['weight'], intercept, slope)\n",
    "\n",
    "plt.plot(testing['weight'],testing['mpg'],'.',\n",
    "        testing['weight'], prediction,'.')\n",
    "plt.title('Weight vs mpg')\n",
    "plt.xlabel('Weight')\n",
    "plt.ylabel('MPG')"
   ]
  },
  {
   "cell_type": "code",
   "execution_count": 93,
   "metadata": {
    "collapsed": false
   },
   "outputs": [
    {
     "data": {
      "text/plain": [
       "<matplotlib.text.Text at 0x11ad43a50>"
      ]
     },
     "execution_count": 93,
     "metadata": {},
     "output_type": "execute_result"
    },
    {
     "data": {
      "image/png": "[encoded data removed]",
      "text/plain": [
       "<matplotlib.figure.Figure at 0x1247e6090>"
      ]
     },
     "metadata": {},
     "output_type": "display_data"
    }
   ],
   "source": [
    "#Plotting predicted value of mpg from hp. Doesn't fit either. \n",
    "\n",
    "\n",
    "intercept,slope = simple_linear_regression(training['hp'],training['mpg'])\n",
    "prediction = get_regression_predictions(testing['hp'], intercept, slope)\n",
    "\n",
    "plt.plot(testing['hp'],testing['mpg'],'.',\n",
    "        testing['hp'], prediction,'.')\n",
    "plt.title('Simple Regression: hp - mpg')\n",
    "plt.xlabel('hp')\n",
    "plt.ylabel('MPG')"
   ]
  },
  {
   "cell_type": "markdown",
   "metadata": {},
   "source": [
    "Probably simple regression isn't a great choice for our model. Let's try multiple regression next"
   ]
  },
  {
   "cell_type": "markdown",
   "metadata": {},
   "source": [
    "# Multiple Regression"
   ]
  },
  {
   "cell_type": "code",
   "execution_count": 92,
   "metadata": {
    "collapsed": false
   },
   "outputs": [
    {
     "data": {
      "text/plain": [
       "<matplotlib.text.Text at 0x1245a6f10>"
      ]
     },
     "execution_count": 92,
     "metadata": {},
     "output_type": "execute_result"
    },
    {
     "data": {
      "image/png": "[encoded data removed]",
      "text/plain": [
       "<matplotlib.figure.Figure at 0x11adbe490>"
      ]
     },
     "metadata": {},
     "output_type": "display_data"
    }
   ],
   "source": [
    "#Data to use weight, displacement, hp\n",
    "\n",
    "#We're adding upto the 15th order polynomial of hp, weight and displacement\n",
    "multi_data = polynomial_sframe(data['hp'],15,\"hp\") \n",
    "multi_data_weight = polynomial_sframe(data['weight'],15,\"weight\")\n",
    "multi_data_disp = polynomial_sframe(data['displacement'],15,\"displacement\")\n",
    "\n",
    "#Adding more columns to multi_data\n",
    "multi_data.add_columns(multi_data_weight)\n",
    "multi_data.add_columns(multi_data_disp)\n",
    "\n",
    "#List of features\n",
    "my_features = multi_data.column_names()\n",
    "multi_data['mpg'] = data['mpg']\n",
    "model = graphlab.linear_regression.create(multi_data, target = 'mpg', features = my_features, \n",
    "                                          validation_set = None, verbose=False)\n",
    "\n",
    "#Let's see how our model performs with a 15th order polynomial on the entire dataset\n",
    "plt.plot(multi_data['hppower_1'],multi_data['mpg'],'.',\n",
    "        multi_data['hppower_1'], model.predict(multi_data),'.')\n",
    "plt.title('Multiple Regression: HP - mpg')\n",
    "plt.xlabel('HP')\n",
    "plt.ylabel('MPG')"
   ]
  },
  {
   "cell_type": "markdown",
   "metadata": {},
   "source": [
    "This is what multi data looks like, if we plot hp vs mpg. It fits it pretty well. "
   ]
  },
  {
   "cell_type": "code",
   "execution_count": 49,
   "metadata": {
    "collapsed": false
   },
   "outputs": [
    {
     "data": {
      "text/html": [
       "<div style=\"max-height:1000px;max-width:1500px;overflow:auto;\"><table frame=\"box\" rules=\"cols\">\n",
       "    <tr>\n",
       "        <th style=\"padding-left: 1em; padding-right: 1em; text-align: center\">hppower_1</th>\n",
       "        <th style=\"padding-left: 1em; padding-right: 1em; text-align: center\">hppower_2</th>\n",
       "        <th style=\"padding-left: 1em; padding-right: 1em; text-align: center\">hppower_3</th>\n",
       "        <th style=\"padding-left: 1em; padding-right: 1em; text-align: center\">hppower_4</th>\n",
       "        <th style=\"padding-left: 1em; padding-right: 1em; text-align: center\">hppower_5</th>\n",
       "        <th style=\"padding-left: 1em; padding-right: 1em; text-align: center\">hppower_6</th>\n",
       "        <th style=\"padding-left: 1em; padding-right: 1em; text-align: center\">hppower_7</th>\n",
       "    </tr>\n",
       "    <tr>\n",
       "        <td style=\"padding-left: 1em; padding-right: 1em; text-align: center; vertical-align: top\">130</td>\n",
       "        <td style=\"padding-left: 1em; padding-right: 1em; text-align: center; vertical-align: top\">16900.0</td>\n",
       "        <td style=\"padding-left: 1em; padding-right: 1em; text-align: center; vertical-align: top\">2197000.0</td>\n",
       "        <td style=\"padding-left: 1em; padding-right: 1em; text-align: center; vertical-align: top\">285610000.0</td>\n",
       "        <td style=\"padding-left: 1em; padding-right: 1em; text-align: center; vertical-align: top\">37129300000.0</td>\n",
       "        <td style=\"padding-left: 1em; padding-right: 1em; text-align: center; vertical-align: top\">4.826809e+12</td>\n",
       "        <td style=\"padding-left: 1em; padding-right: 1em; text-align: center; vertical-align: top\">6.2748517e+14</td>\n",
       "    </tr>\n",
       "    <tr>\n",
       "        <td style=\"padding-left: 1em; padding-right: 1em; text-align: center; vertical-align: top\">165</td>\n",
       "        <td style=\"padding-left: 1em; padding-right: 1em; text-align: center; vertical-align: top\">27225.0</td>\n",
       "        <td style=\"padding-left: 1em; padding-right: 1em; text-align: center; vertical-align: top\">4492125.0</td>\n",
       "        <td style=\"padding-left: 1em; padding-right: 1em; text-align: center; vertical-align: top\">741200625.0</td>\n",
       "        <td style=\"padding-left: 1em; padding-right: 1em; text-align: center; vertical-align: top\">1.22298103125e+11</td>\n",
       "        <td style=\"padding-left: 1em; padding-right: 1em; text-align: center; vertical-align: top\">2.01791870156e+13</td>\n",
       "        <td style=\"padding-left: 1em; padding-right: 1em; text-align: center; vertical-align: top\">3.32956585758e+15</td>\n",
       "    </tr>\n",
       "    <tr>\n",
       "        <td style=\"padding-left: 1em; padding-right: 1em; text-align: center; vertical-align: top\">150</td>\n",
       "        <td style=\"padding-left: 1em; padding-right: 1em; text-align: center; vertical-align: top\">22500.0</td>\n",
       "        <td style=\"padding-left: 1em; padding-right: 1em; text-align: center; vertical-align: top\">3375000.0</td>\n",
       "        <td style=\"padding-left: 1em; padding-right: 1em; text-align: center; vertical-align: top\">506250000.0</td>\n",
       "        <td style=\"padding-left: 1em; padding-right: 1em; text-align: center; vertical-align: top\">75937500000.0</td>\n",
       "        <td style=\"padding-left: 1em; padding-right: 1em; text-align: center; vertical-align: top\">1.1390625e+13</td>\n",
       "        <td style=\"padding-left: 1em; padding-right: 1em; text-align: center; vertical-align: top\">1.70859375e+15</td>\n",
       "    </tr>\n",
       "    <tr>\n",
       "        <td style=\"padding-left: 1em; padding-right: 1em; text-align: center; vertical-align: top\">150</td>\n",
       "        <td style=\"padding-left: 1em; padding-right: 1em; text-align: center; vertical-align: top\">22500.0</td>\n",
       "        <td style=\"padding-left: 1em; padding-right: 1em; text-align: center; vertical-align: top\">3375000.0</td>\n",
       "        <td style=\"padding-left: 1em; padding-right: 1em; text-align: center; vertical-align: top\">506250000.0</td>\n",
       "        <td style=\"padding-left: 1em; padding-right: 1em; text-align: center; vertical-align: top\">75937500000.0</td>\n",
       "        <td style=\"padding-left: 1em; padding-right: 1em; text-align: center; vertical-align: top\">1.1390625e+13</td>\n",
       "        <td style=\"padding-left: 1em; padding-right: 1em; text-align: center; vertical-align: top\">1.70859375e+15</td>\n",
       "    </tr>\n",
       "    <tr>\n",
       "        <td style=\"padding-left: 1em; padding-right: 1em; text-align: center; vertical-align: top\">140</td>\n",
       "        <td style=\"padding-left: 1em; padding-right: 1em; text-align: center; vertical-align: top\">19600.0</td>\n",
       "        <td style=\"padding-left: 1em; padding-right: 1em; text-align: center; vertical-align: top\">2744000.0</td>\n",
       "        <td style=\"padding-left: 1em; padding-right: 1em; text-align: center; vertical-align: top\">384160000.0</td>\n",
       "        <td style=\"padding-left: 1em; padding-right: 1em; text-align: center; vertical-align: top\">53782400000.0</td>\n",
       "        <td style=\"padding-left: 1em; padding-right: 1em; text-align: center; vertical-align: top\">7.529536e+12</td>\n",
       "        <td style=\"padding-left: 1em; padding-right: 1em; text-align: center; vertical-align: top\">1.05413504e+15</td>\n",
       "    </tr>\n",
       "    <tr>\n",
       "        <td style=\"padding-left: 1em; padding-right: 1em; text-align: center; vertical-align: top\">198</td>\n",
       "        <td style=\"padding-left: 1em; padding-right: 1em; text-align: center; vertical-align: top\">39204.0</td>\n",
       "        <td style=\"padding-left: 1em; padding-right: 1em; text-align: center; vertical-align: top\">7762392.0</td>\n",
       "        <td style=\"padding-left: 1em; padding-right: 1em; text-align: center; vertical-align: top\">1536953616.0</td>\n",
       "        <td style=\"padding-left: 1em; padding-right: 1em; text-align: center; vertical-align: top\">3.04316815968e+11</td>\n",
       "        <td style=\"padding-left: 1em; padding-right: 1em; text-align: center; vertical-align: top\">6.02547295617e+13</td>\n",
       "        <td style=\"padding-left: 1em; padding-right: 1em; text-align: center; vertical-align: top\">1.19304364532e+16</td>\n",
       "    </tr>\n",
       "    <tr>\n",
       "        <td style=\"padding-left: 1em; padding-right: 1em; text-align: center; vertical-align: top\">220</td>\n",
       "        <td style=\"padding-left: 1em; padding-right: 1em; text-align: center; vertical-align: top\">48400.0</td>\n",
       "        <td style=\"padding-left: 1em; padding-right: 1em; text-align: center; vertical-align: top\">10648000.0</td>\n",
       "        <td style=\"padding-left: 1em; padding-right: 1em; text-align: center; vertical-align: top\">2342560000.0</td>\n",
       "        <td style=\"padding-left: 1em; padding-right: 1em; text-align: center; vertical-align: top\">5.153632e+11</td>\n",
       "        <td style=\"padding-left: 1em; padding-right: 1em; text-align: center; vertical-align: top\">1.13379904e+14</td>\n",
       "        <td style=\"padding-left: 1em; padding-right: 1em; text-align: center; vertical-align: top\">2.494357888e+16</td>\n",
       "    </tr>\n",
       "    <tr>\n",
       "        <td style=\"padding-left: 1em; padding-right: 1em; text-align: center; vertical-align: top\">215</td>\n",
       "        <td style=\"padding-left: 1em; padding-right: 1em; text-align: center; vertical-align: top\">46225.0</td>\n",
       "        <td style=\"padding-left: 1em; padding-right: 1em; text-align: center; vertical-align: top\">9938375.0</td>\n",
       "        <td style=\"padding-left: 1em; padding-right: 1em; text-align: center; vertical-align: top\">2136750625.0</td>\n",
       "        <td style=\"padding-left: 1em; padding-right: 1em; text-align: center; vertical-align: top\">4.59401384375e+11</td>\n",
       "        <td style=\"padding-left: 1em; padding-right: 1em; text-align: center; vertical-align: top\">9.87712976406e+13</td>\n",
       "        <td style=\"padding-left: 1em; padding-right: 1em; text-align: center; vertical-align: top\">2.12358289927e+16</td>\n",
       "    </tr>\n",
       "    <tr>\n",
       "        <td style=\"padding-left: 1em; padding-right: 1em; text-align: center; vertical-align: top\">225</td>\n",
       "        <td style=\"padding-left: 1em; padding-right: 1em; text-align: center; vertical-align: top\">50625.0</td>\n",
       "        <td style=\"padding-left: 1em; padding-right: 1em; text-align: center; vertical-align: top\">11390625.0</td>\n",
       "        <td style=\"padding-left: 1em; padding-right: 1em; text-align: center; vertical-align: top\">2562890625.0</td>\n",
       "        <td style=\"padding-left: 1em; padding-right: 1em; text-align: center; vertical-align: top\">5.76650390625e+11</td>\n",
       "        <td style=\"padding-left: 1em; padding-right: 1em; text-align: center; vertical-align: top\">1.29746337891e+14</td>\n",
       "        <td style=\"padding-left: 1em; padding-right: 1em; text-align: center; vertical-align: top\">2.91929260254e+16</td>\n",
       "    </tr>\n",
       "    <tr>\n",
       "        <td style=\"padding-left: 1em; padding-right: 1em; text-align: center; vertical-align: top\">190</td>\n",
       "        <td style=\"padding-left: 1em; padding-right: 1em; text-align: center; vertical-align: top\">36100.0</td>\n",
       "        <td style=\"padding-left: 1em; padding-right: 1em; text-align: center; vertical-align: top\">6859000.0</td>\n",
       "        <td style=\"padding-left: 1em; padding-right: 1em; text-align: center; vertical-align: top\">1303210000.0</td>\n",
       "        <td style=\"padding-left: 1em; padding-right: 1em; text-align: center; vertical-align: top\">2.476099e+11</td>\n",
       "        <td style=\"padding-left: 1em; padding-right: 1em; text-align: center; vertical-align: top\">4.7045881e+13</td>\n",
       "        <td style=\"padding-left: 1em; padding-right: 1em; text-align: center; vertical-align: top\">8.93871739e+15</td>\n",
       "    </tr>\n",
       "</table>\n",
       "<table frame=\"box\" rules=\"cols\">\n",
       "    <tr>\n",
       "        <th style=\"padding-left: 1em; padding-right: 1em; text-align: center\">hppower_8</th>\n",
       "        <th style=\"padding-left: 1em; padding-right: 1em; text-align: center\">hppower_9</th>\n",
       "        <th style=\"padding-left: 1em; padding-right: 1em; text-align: center\">hppower_10</th>\n",
       "        <th style=\"padding-left: 1em; padding-right: 1em; text-align: center\">hppower_11</th>\n",
       "        <th style=\"padding-left: 1em; padding-right: 1em; text-align: center\">hppower_12</th>\n",
       "        <th style=\"padding-left: 1em; padding-right: 1em; text-align: center\">hppower_13</th>\n",
       "    </tr>\n",
       "    <tr>\n",
       "        <td style=\"padding-left: 1em; padding-right: 1em; text-align: center; vertical-align: top\">8.15730721e+16</td>\n",
       "        <td style=\"padding-left: 1em; padding-right: 1em; text-align: center; vertical-align: top\">1.0604499373e+19</td>\n",
       "        <td style=\"padding-left: 1em; padding-right: 1em; text-align: center; vertical-align: top\">1.37858491849e+21</td>\n",
       "        <td style=\"padding-left: 1em; padding-right: 1em; text-align: center; vertical-align: top\">1.79216039404e+23</td>\n",
       "        <td style=\"padding-left: 1em; padding-right: 1em; text-align: center; vertical-align: top\">2.32980851225e+25</td>\n",
       "        <td style=\"padding-left: 1em; padding-right: 1em; text-align: center; vertical-align: top\">3.02875106592e+27</td>\n",
       "    </tr>\n",
       "    <tr>\n",
       "        <td style=\"padding-left: 1em; padding-right: 1em; text-align: center; vertical-align: top\">5.493783665e+17</td>\n",
       "        <td style=\"padding-left: 1em; padding-right: 1em; text-align: center; vertical-align: top\">9.06474304726e+19</td>\n",
       "        <td style=\"padding-left: 1em; padding-right: 1em; text-align: center; vertical-align: top\">1.4956826028e+22</td>\n",
       "        <td style=\"padding-left: 1em; padding-right: 1em; text-align: center; vertical-align: top\">2.46787629462e+24</td>\n",
       "        <td style=\"padding-left: 1em; padding-right: 1em; text-align: center; vertical-align: top\">4.07199588612e+26</td>\n",
       "        <td style=\"padding-left: 1em; padding-right: 1em; text-align: center; vertical-align: top\">6.71879321209e+28</td>\n",
       "    </tr>\n",
       "    <tr>\n",
       "        <td style=\"padding-left: 1em; padding-right: 1em; text-align: center; vertical-align: top\">2.562890625e+17</td>\n",
       "        <td style=\"padding-left: 1em; padding-right: 1em; text-align: center; vertical-align: top\">3.8443359375e+19</td>\n",
       "        <td style=\"padding-left: 1em; padding-right: 1em; text-align: center; vertical-align: top\">5.76650390625e+21</td>\n",
       "        <td style=\"padding-left: 1em; padding-right: 1em; text-align: center; vertical-align: top\">8.64975585938e+23</td>\n",
       "        <td style=\"padding-left: 1em; padding-right: 1em; text-align: center; vertical-align: top\">1.29746337891e+26</td>\n",
       "        <td style=\"padding-left: 1em; padding-right: 1em; text-align: center; vertical-align: top\">1.94619506836e+28</td>\n",
       "    </tr>\n",
       "    <tr>\n",
       "        <td style=\"padding-left: 1em; padding-right: 1em; text-align: center; vertical-align: top\">2.562890625e+17</td>\n",
       "        <td style=\"padding-left: 1em; padding-right: 1em; text-align: center; vertical-align: top\">3.8443359375e+19</td>\n",
       "        <td style=\"padding-left: 1em; padding-right: 1em; text-align: center; vertical-align: top\">5.76650390625e+21</td>\n",
       "        <td style=\"padding-left: 1em; padding-right: 1em; text-align: center; vertical-align: top\">8.64975585938e+23</td>\n",
       "        <td style=\"padding-left: 1em; padding-right: 1em; text-align: center; vertical-align: top\">1.29746337891e+26</td>\n",
       "        <td style=\"padding-left: 1em; padding-right: 1em; text-align: center; vertical-align: top\">1.94619506836e+28</td>\n",
       "    </tr>\n",
       "    <tr>\n",
       "        <td style=\"padding-left: 1em; padding-right: 1em; text-align: center; vertical-align: top\">1.475789056e+17</td>\n",
       "        <td style=\"padding-left: 1em; padding-right: 1em; text-align: center; vertical-align: top\">2.0661046784e+19</td>\n",
       "        <td style=\"padding-left: 1em; padding-right: 1em; text-align: center; vertical-align: top\">2.89254654976e+21</td>\n",
       "        <td style=\"padding-left: 1em; padding-right: 1em; text-align: center; vertical-align: top\">4.04956516966e+23</td>\n",
       "        <td style=\"padding-left: 1em; padding-right: 1em; text-align: center; vertical-align: top\">5.66939123753e+25</td>\n",
       "        <td style=\"padding-left: 1em; padding-right: 1em; text-align: center; vertical-align: top\">7.93714773254e+27</td>\n",
       "    </tr>\n",
       "    <tr>\n",
       "        <td style=\"padding-left: 1em; padding-right: 1em; text-align: center; vertical-align: top\">2.36222641774e+18</td>\n",
       "        <td style=\"padding-left: 1em; padding-right: 1em; text-align: center; vertical-align: top\">4.67720830712e+20</td>\n",
       "        <td style=\"padding-left: 1em; padding-right: 1em; text-align: center; vertical-align: top\">9.26087244809e+22</td>\n",
       "        <td style=\"padding-left: 1em; padding-right: 1em; text-align: center; vertical-align: top\">1.83365274472e+25</td>\n",
       "        <td style=\"padding-left: 1em; padding-right: 1em; text-align: center; vertical-align: top\">3.63063243455e+27</td>\n",
       "        <td style=\"padding-left: 1em; padding-right: 1em; text-align: center; vertical-align: top\">7.18865222041e+29</td>\n",
       "    </tr>\n",
       "    <tr>\n",
       "        <td style=\"padding-left: 1em; padding-right: 1em; text-align: center; vertical-align: top\">5.4875873536e+18</td>\n",
       "        <td style=\"padding-left: 1em; padding-right: 1em; text-align: center; vertical-align: top\">1.20726921779e+21</td>\n",
       "        <td style=\"padding-left: 1em; padding-right: 1em; text-align: center; vertical-align: top\">2.65599227914e+23</td>\n",
       "        <td style=\"padding-left: 1em; padding-right: 1em; text-align: center; vertical-align: top\">5.84318301411e+25</td>\n",
       "        <td style=\"padding-left: 1em; padding-right: 1em; text-align: center; vertical-align: top\">1.2855002631e+28</td>\n",
       "        <td style=\"padding-left: 1em; padding-right: 1em; text-align: center; vertical-align: top\">2.82810057883e+30</td>\n",
       "    </tr>\n",
       "    <tr>\n",
       "        <td style=\"padding-left: 1em; padding-right: 1em; text-align: center; vertical-align: top\">4.56570323344e+18</td>\n",
       "        <td style=\"padding-left: 1em; padding-right: 1em; text-align: center; vertical-align: top\">9.81626195189e+20</td>\n",
       "        <td style=\"padding-left: 1em; padding-right: 1em; text-align: center; vertical-align: top\">2.11049631966e+23</td>\n",
       "        <td style=\"padding-left: 1em; padding-right: 1em; text-align: center; vertical-align: top\">4.53756708726e+25</td>\n",
       "        <td style=\"padding-left: 1em; padding-right: 1em; text-align: center; vertical-align: top\">9.75576923761e+27</td>\n",
       "        <td style=\"padding-left: 1em; padding-right: 1em; text-align: center; vertical-align: top\">2.09749038609e+30</td>\n",
       "    </tr>\n",
       "    <tr>\n",
       "        <td style=\"padding-left: 1em; padding-right: 1em; text-align: center; vertical-align: top\">6.56840835571e+18</td>\n",
       "        <td style=\"padding-left: 1em; padding-right: 1em; text-align: center; vertical-align: top\">1.47789188004e+21</td>\n",
       "        <td style=\"padding-left: 1em; padding-right: 1em; text-align: center; vertical-align: top\">3.32525673008e+23</td>\n",
       "        <td style=\"padding-left: 1em; padding-right: 1em; text-align: center; vertical-align: top\">7.48182764268e+25</td>\n",
       "        <td style=\"padding-left: 1em; padding-right: 1em; text-align: center; vertical-align: top\">1.6834112196e+28</td>\n",
       "        <td style=\"padding-left: 1em; padding-right: 1em; text-align: center; vertical-align: top\">3.78767524411e+30</td>\n",
       "    </tr>\n",
       "    <tr>\n",
       "        <td style=\"padding-left: 1em; padding-right: 1em; text-align: center; vertical-align: top\">1.6983563041e+18</td>\n",
       "        <td style=\"padding-left: 1em; padding-right: 1em; text-align: center; vertical-align: top\">3.22687697779e+20</td>\n",
       "        <td style=\"padding-left: 1em; padding-right: 1em; text-align: center; vertical-align: top\">6.1310662578e+22</td>\n",
       "        <td style=\"padding-left: 1em; padding-right: 1em; text-align: center; vertical-align: top\">1.16490258898e+25</td>\n",
       "        <td style=\"padding-left: 1em; padding-right: 1em; text-align: center; vertical-align: top\">2.21331491907e+27</td>\n",
       "        <td style=\"padding-left: 1em; padding-right: 1em; text-align: center; vertical-align: top\">4.20529834623e+29</td>\n",
       "    </tr>\n",
       "</table>\n",
       "<table frame=\"box\" rules=\"cols\">\n",
       "    <tr>\n",
       "        <th style=\"padding-left: 1em; padding-right: 1em; text-align: center\">hppower_14</th>\n",
       "        <th style=\"padding-left: 1em; padding-right: 1em; text-align: center\">hppower_15</th>\n",
       "        <th style=\"padding-left: 1em; padding-right: 1em; text-align: center\">weightpower_1</th>\n",
       "        <th style=\"padding-left: 1em; padding-right: 1em; text-align: center\">weightpower_2</th>\n",
       "        <th style=\"padding-left: 1em; padding-right: 1em; text-align: center\">weightpower_3</th>\n",
       "        <th style=\"padding-left: 1em; padding-right: 1em; text-align: center\">weightpower_4</th>\n",
       "    </tr>\n",
       "    <tr>\n",
       "        <td style=\"padding-left: 1em; padding-right: 1em; text-align: center; vertical-align: top\">3.9373763857e+29</td>\n",
       "        <td style=\"padding-left: 1em; padding-right: 1em; text-align: center; vertical-align: top\">5.11858930141e+31</td>\n",
       "        <td style=\"padding-left: 1em; padding-right: 1em; text-align: center; vertical-align: top\">3504</td>\n",
       "        <td style=\"padding-left: 1em; padding-right: 1em; text-align: center; vertical-align: top\">12278016.0</td>\n",
       "        <td style=\"padding-left: 1em; padding-right: 1em; text-align: center; vertical-align: top\">43022168064.0</td>\n",
       "        <td style=\"padding-left: 1em; padding-right: 1em; text-align: center; vertical-align: top\">1.50749676896e+14</td>\n",
       "    </tr>\n",
       "    <tr>\n",
       "        <td style=\"padding-left: 1em; padding-right: 1em; text-align: center; vertical-align: top\">1.10860087999e+31</td>\n",
       "        <td style=\"padding-left: 1em; padding-right: 1em; text-align: center; vertical-align: top\">1.82919145199e+33</td>\n",
       "        <td style=\"padding-left: 1em; padding-right: 1em; text-align: center; vertical-align: top\">3693</td>\n",
       "        <td style=\"padding-left: 1em; padding-right: 1em; text-align: center; vertical-align: top\">13638249.0</td>\n",
       "        <td style=\"padding-left: 1em; padding-right: 1em; text-align: center; vertical-align: top\">50366053557.0</td>\n",
       "        <td style=\"padding-left: 1em; padding-right: 1em; text-align: center; vertical-align: top\">1.86001835786e+14</td>\n",
       "    </tr>\n",
       "    <tr>\n",
       "        <td style=\"padding-left: 1em; padding-right: 1em; text-align: center; vertical-align: top\">2.91929260254e+30</td>\n",
       "        <td style=\"padding-left: 1em; padding-right: 1em; text-align: center; vertical-align: top\">4.37893890381e+32</td>\n",
       "        <td style=\"padding-left: 1em; padding-right: 1em; text-align: center; vertical-align: top\">3436</td>\n",
       "        <td style=\"padding-left: 1em; padding-right: 1em; text-align: center; vertical-align: top\">11806096.0</td>\n",
       "        <td style=\"padding-left: 1em; padding-right: 1em; text-align: center; vertical-align: top\">40565745856.0</td>\n",
       "        <td style=\"padding-left: 1em; padding-right: 1em; text-align: center; vertical-align: top\">1.39383902761e+14</td>\n",
       "    </tr>\n",
       "    <tr>\n",
       "        <td style=\"padding-left: 1em; padding-right: 1em; text-align: center; vertical-align: top\">2.91929260254e+30</td>\n",
       "        <td style=\"padding-left: 1em; padding-right: 1em; text-align: center; vertical-align: top\">4.37893890381e+32</td>\n",
       "        <td style=\"padding-left: 1em; padding-right: 1em; text-align: center; vertical-align: top\">3433</td>\n",
       "        <td style=\"padding-left: 1em; padding-right: 1em; text-align: center; vertical-align: top\">11785489.0</td>\n",
       "        <td style=\"padding-left: 1em; padding-right: 1em; text-align: center; vertical-align: top\">40459583737.0</td>\n",
       "        <td style=\"padding-left: 1em; padding-right: 1em; text-align: center; vertical-align: top\">1.38897750969e+14</td>\n",
       "    </tr>\n",
       "    <tr>\n",
       "        <td style=\"padding-left: 1em; padding-right: 1em; text-align: center; vertical-align: top\">1.11120068256e+30</td>\n",
       "        <td style=\"padding-left: 1em; padding-right: 1em; text-align: center; vertical-align: top\">1.55568095558e+32</td>\n",
       "        <td style=\"padding-left: 1em; padding-right: 1em; text-align: center; vertical-align: top\">3449</td>\n",
       "        <td style=\"padding-left: 1em; padding-right: 1em; text-align: center; vertical-align: top\">11895601.0</td>\n",
       "        <td style=\"padding-left: 1em; padding-right: 1em; text-align: center; vertical-align: top\">41027927849.0</td>\n",
       "        <td style=\"padding-left: 1em; padding-right: 1em; text-align: center; vertical-align: top\">1.41505323151e+14</td>\n",
       "    </tr>\n",
       "    <tr>\n",
       "        <td style=\"padding-left: 1em; padding-right: 1em; text-align: center; vertical-align: top\">1.42335313964e+32</td>\n",
       "        <td style=\"padding-left: 1em; padding-right: 1em; text-align: center; vertical-align: top\">2.81823921649e+34</td>\n",
       "        <td style=\"padding-left: 1em; padding-right: 1em; text-align: center; vertical-align: top\">4341</td>\n",
       "        <td style=\"padding-left: 1em; padding-right: 1em; text-align: center; vertical-align: top\">18844281.0</td>\n",
       "        <td style=\"padding-left: 1em; padding-right: 1em; text-align: center; vertical-align: top\">81803023821.0</td>\n",
       "        <td style=\"padding-left: 1em; padding-right: 1em; text-align: center; vertical-align: top\">3.55106926407e+14</td>\n",
       "    </tr>\n",
       "    <tr>\n",
       "        <td style=\"padding-left: 1em; padding-right: 1em; text-align: center; vertical-align: top\">6.22182127343e+32</td>\n",
       "        <td style=\"padding-left: 1em; padding-right: 1em; text-align: center; vertical-align: top\">1.36880068015e+35</td>\n",
       "        <td style=\"padding-left: 1em; padding-right: 1em; text-align: center; vertical-align: top\">4354</td>\n",
       "        <td style=\"padding-left: 1em; padding-right: 1em; text-align: center; vertical-align: top\">18957316.0</td>\n",
       "        <td style=\"padding-left: 1em; padding-right: 1em; text-align: center; vertical-align: top\">82540153864.0</td>\n",
       "        <td style=\"padding-left: 1em; padding-right: 1em; text-align: center; vertical-align: top\">3.59379829924e+14</td>\n",
       "    </tr>\n",
       "    <tr>\n",
       "        <td style=\"padding-left: 1em; padding-right: 1em; text-align: center; vertical-align: top\">4.50960433009e+32</td>\n",
       "        <td style=\"padding-left: 1em; padding-right: 1em; text-align: center; vertical-align: top\">9.69564930969e+34</td>\n",
       "        <td style=\"padding-left: 1em; padding-right: 1em; text-align: center; vertical-align: top\">4312</td>\n",
       "        <td style=\"padding-left: 1em; padding-right: 1em; text-align: center; vertical-align: top\">18593344.0</td>\n",
       "        <td style=\"padding-left: 1em; padding-right: 1em; text-align: center; vertical-align: top\">80174499328.0</td>\n",
       "        <td style=\"padding-left: 1em; padding-right: 1em; text-align: center; vertical-align: top\">3.45712441102e+14</td>\n",
       "    </tr>\n",
       "    <tr>\n",
       "        <td style=\"padding-left: 1em; padding-right: 1em; text-align: center; vertical-align: top\">8.52226929924e+32</td>\n",
       "        <td style=\"padding-left: 1em; padding-right: 1em; text-align: center; vertical-align: top\">1.91751059233e+35</td>\n",
       "        <td style=\"padding-left: 1em; padding-right: 1em; text-align: center; vertical-align: top\">4425</td>\n",
       "        <td style=\"padding-left: 1em; padding-right: 1em; text-align: center; vertical-align: top\">19580625.0</td>\n",
       "        <td style=\"padding-left: 1em; padding-right: 1em; text-align: center; vertical-align: top\">86644265625.0</td>\n",
       "        <td style=\"padding-left: 1em; padding-right: 1em; text-align: center; vertical-align: top\">3.83400875391e+14</td>\n",
       "    </tr>\n",
       "    <tr>\n",
       "        <td style=\"padding-left: 1em; padding-right: 1em; text-align: center; vertical-align: top\">7.99006685783e+31</td>\n",
       "        <td style=\"padding-left: 1em; padding-right: 1em; text-align: center; vertical-align: top\">1.51811270299e+34</td>\n",
       "        <td style=\"padding-left: 1em; padding-right: 1em; text-align: center; vertical-align: top\">3850</td>\n",
       "        <td style=\"padding-left: 1em; padding-right: 1em; text-align: center; vertical-align: top\">14822500.0</td>\n",
       "        <td style=\"padding-left: 1em; padding-right: 1em; text-align: center; vertical-align: top\">57066625000.0</td>\n",
       "        <td style=\"padding-left: 1em; padding-right: 1em; text-align: center; vertical-align: top\">2.1970650625e+14</td>\n",
       "    </tr>\n",
       "</table>\n",
       "<table frame=\"box\" rules=\"cols\">\n",
       "    <tr>\n",
       "        <th style=\"padding-left: 1em; padding-right: 1em; text-align: center\">weightpower_5</th>\n",
       "        <th style=\"padding-left: 1em; padding-right: 1em; text-align: center\">weightpower_6</th>\n",
       "        <th style=\"padding-left: 1em; padding-right: 1em; text-align: center\">weightpower_7</th>\n",
       "        <th style=\"padding-left: 1em; padding-right: 1em; text-align: center\">weightpower_8</th>\n",
       "        <th style=\"padding-left: 1em; padding-right: 1em; text-align: center\">weightpower_9</th>\n",
       "        <th style=\"padding-left: 1em; padding-right: 1em; text-align: center\">weightpower_10</th>\n",
       "    </tr>\n",
       "    <tr>\n",
       "        <td style=\"padding-left: 1em; padding-right: 1em; text-align: center; vertical-align: top\">5.28226867844e+17</td>\n",
       "        <td style=\"padding-left: 1em; padding-right: 1em; text-align: center; vertical-align: top\">1.85090694493e+21</td>\n",
       "        <td style=\"padding-left: 1em; padding-right: 1em; text-align: center; vertical-align: top\">6.48557793502e+24</td>\n",
       "        <td style=\"padding-left: 1em; padding-right: 1em; text-align: center; vertical-align: top\">2.27254650843e+28</td>\n",
       "        <td style=\"padding-left: 1em; padding-right: 1em; text-align: center; vertical-align: top\">7.96300296555e+31</td>\n",
       "        <td style=\"padding-left: 1em; padding-right: 1em; text-align: center; vertical-align: top\">2.79023623913e+35</td>\n",
       "    </tr>\n",
       "    <tr>\n",
       "        <td style=\"padding-left: 1em; padding-right: 1em; text-align: center; vertical-align: top\">6.86904779558e+17</td>\n",
       "        <td style=\"padding-left: 1em; padding-right: 1em; text-align: center; vertical-align: top\">2.53673935091e+21</td>\n",
       "        <td style=\"padding-left: 1em; padding-right: 1em; text-align: center; vertical-align: top\">9.3681784229e+24</td>\n",
       "        <td style=\"padding-left: 1em; padding-right: 1em; text-align: center; vertical-align: top\">3.45966829158e+28</td>\n",
       "        <td style=\"padding-left: 1em; padding-right: 1em; text-align: center; vertical-align: top\">1.27765550008e+32</td>\n",
       "        <td style=\"padding-left: 1em; padding-right: 1em; text-align: center; vertical-align: top\">4.71838176179e+35</td>\n",
       "    </tr>\n",
       "    <tr>\n",
       "        <td style=\"padding-left: 1em; padding-right: 1em; text-align: center; vertical-align: top\">4.78923089888e+17</td>\n",
       "        <td style=\"padding-left: 1em; padding-right: 1em; text-align: center; vertical-align: top\">1.64557973685e+21</td>\n",
       "        <td style=\"padding-left: 1em; padding-right: 1em; text-align: center; vertical-align: top\">5.65421197583e+24</td>\n",
       "        <td style=\"padding-left: 1em; padding-right: 1em; text-align: center; vertical-align: top\">1.94278723489e+28</td>\n",
       "        <td style=\"padding-left: 1em; padding-right: 1em; text-align: center; vertical-align: top\">6.6754169391e+31</td>\n",
       "        <td style=\"padding-left: 1em; padding-right: 1em; text-align: center; vertical-align: top\">2.29367326027e+35</td>\n",
       "    </tr>\n",
       "    <tr>\n",
       "        <td style=\"padding-left: 1em; padding-right: 1em; text-align: center; vertical-align: top\">4.76835979077e+17</td>\n",
       "        <td style=\"padding-left: 1em; padding-right: 1em; text-align: center; vertical-align: top\">1.63697791617e+21</td>\n",
       "        <td style=\"padding-left: 1em; padding-right: 1em; text-align: center; vertical-align: top\">5.61974518622e+24</td>\n",
       "        <td style=\"padding-left: 1em; padding-right: 1em; text-align: center; vertical-align: top\">1.92925852243e+28</td>\n",
       "        <td style=\"padding-left: 1em; padding-right: 1em; text-align: center; vertical-align: top\">6.6231445075e+31</td>\n",
       "        <td style=\"padding-left: 1em; padding-right: 1em; text-align: center; vertical-align: top\">2.27372550942e+35</td>\n",
       "    </tr>\n",
       "    <tr>\n",
       "        <td style=\"padding-left: 1em; padding-right: 1em; text-align: center; vertical-align: top\">4.88051859548e+17</td>\n",
       "        <td style=\"padding-left: 1em; padding-right: 1em; text-align: center; vertical-align: top\">1.68329086358e+21</td>\n",
       "        <td style=\"padding-left: 1em; padding-right: 1em; text-align: center; vertical-align: top\">5.8056701885e+24</td>\n",
       "        <td style=\"padding-left: 1em; padding-right: 1em; text-align: center; vertical-align: top\">2.00237564801e+28</td>\n",
       "        <td style=\"padding-left: 1em; padding-right: 1em; text-align: center; vertical-align: top\">6.90619361e+31</td>\n",
       "        <td style=\"padding-left: 1em; padding-right: 1em; text-align: center; vertical-align: top\">2.38194617609e+35</td>\n",
       "    </tr>\n",
       "    <tr>\n",
       "        <td style=\"padding-left: 1em; padding-right: 1em; text-align: center; vertical-align: top\">1.54151916753e+18</td>\n",
       "        <td style=\"padding-left: 1em; padding-right: 1em; text-align: center; vertical-align: top\">6.69173470626e+21</td>\n",
       "        <td style=\"padding-left: 1em; padding-right: 1em; text-align: center; vertical-align: top\">2.90488203599e+25</td>\n",
       "        <td style=\"padding-left: 1em; padding-right: 1em; text-align: center; vertical-align: top\">1.26100929182e+29</td>\n",
       "        <td style=\"padding-left: 1em; padding-right: 1em; text-align: center; vertical-align: top\">5.4740413358e+32</td>\n",
       "        <td style=\"padding-left: 1em; padding-right: 1em; text-align: center; vertical-align: top\">2.37628134387e+36</td>\n",
       "    </tr>\n",
       "    <tr>\n",
       "        <td style=\"padding-left: 1em; padding-right: 1em; text-align: center; vertical-align: top\">1.56473977949e+18</td>\n",
       "        <td style=\"padding-left: 1em; padding-right: 1em; text-align: center; vertical-align: top\">6.81287699989e+21</td>\n",
       "        <td style=\"padding-left: 1em; padding-right: 1em; text-align: center; vertical-align: top\">2.96632664575e+25</td>\n",
       "        <td style=\"padding-left: 1em; padding-right: 1em; text-align: center; vertical-align: top\">1.29153862156e+29</td>\n",
       "        <td style=\"padding-left: 1em; padding-right: 1em; text-align: center; vertical-align: top\">5.62335915828e+32</td>\n",
       "        <td style=\"padding-left: 1em; padding-right: 1em; text-align: center; vertical-align: top\">2.44841057751e+36</td>\n",
       "    </tr>\n",
       "    <tr>\n",
       "        <td style=\"padding-left: 1em; padding-right: 1em; text-align: center; vertical-align: top\">1.49071204603e+18</td>\n",
       "        <td style=\"padding-left: 1em; padding-right: 1em; text-align: center; vertical-align: top\">6.4279503425e+21</td>\n",
       "        <td style=\"padding-left: 1em; padding-right: 1em; text-align: center; vertical-align: top\">2.77173218768e+25</td>\n",
       "        <td style=\"padding-left: 1em; padding-right: 1em; text-align: center; vertical-align: top\">1.19517091933e+29</td>\n",
       "        <td style=\"padding-left: 1em; padding-right: 1em; text-align: center; vertical-align: top\">5.15357700415e+32</td>\n",
       "        <td style=\"padding-left: 1em; padding-right: 1em; text-align: center; vertical-align: top\">2.22222240419e+36</td>\n",
       "    </tr>\n",
       "    <tr>\n",
       "        <td style=\"padding-left: 1em; padding-right: 1em; text-align: center; vertical-align: top\">1.6965488736e+18</td>\n",
       "        <td style=\"padding-left: 1em; padding-right: 1em; text-align: center; vertical-align: top\">7.5072287657e+21</td>\n",
       "        <td style=\"padding-left: 1em; padding-right: 1em; text-align: center; vertical-align: top\">3.32194872882e+25</td>\n",
       "        <td style=\"padding-left: 1em; padding-right: 1em; text-align: center; vertical-align: top\">1.4699623125e+29</td>\n",
       "        <td style=\"padding-left: 1em; padding-right: 1em; text-align: center; vertical-align: top\">6.50458323283e+32</td>\n",
       "        <td style=\"padding-left: 1em; padding-right: 1em; text-align: center; vertical-align: top\">2.87827808053e+36</td>\n",
       "    </tr>\n",
       "    <tr>\n",
       "        <td style=\"padding-left: 1em; padding-right: 1em; text-align: center; vertical-align: top\">8.45870049062e+17</td>\n",
       "        <td style=\"padding-left: 1em; padding-right: 1em; text-align: center; vertical-align: top\">3.25659968889e+21</td>\n",
       "        <td style=\"padding-left: 1em; padding-right: 1em; text-align: center; vertical-align: top\">1.25379088022e+25</td>\n",
       "        <td style=\"padding-left: 1em; padding-right: 1em; text-align: center; vertical-align: top\">4.82709488886e+28</td>\n",
       "        <td style=\"padding-left: 1em; padding-right: 1em; text-align: center; vertical-align: top\">1.85843153221e+32</td>\n",
       "        <td style=\"padding-left: 1em; padding-right: 1em; text-align: center; vertical-align: top\">7.15496139901e+35</td>\n",
       "    </tr>\n",
       "</table>\n",
       "<table frame=\"box\" rules=\"cols\">\n",
       "    <tr>\n",
       "        <th style=\"padding-left: 1em; padding-right: 1em; text-align: center\">weightpower_11</th>\n",
       "        <th style=\"padding-left: 1em; padding-right: 1em; text-align: center\">weightpower_12</th>\n",
       "        <th style=\"padding-left: 1em; padding-right: 1em; text-align: center\">weightpower_13</th>\n",
       "        <th style=\"padding-left: 1em; padding-right: 1em; text-align: center\">weightpower_14</th>\n",
       "        <th style=\"padding-left: 1em; padding-right: 1em; text-align: center\">weightpower_15</th>\n",
       "        <th style=\"padding-left: 1em; padding-right: 1em; text-align: center\">displacementpower_1</th>\n",
       "    </tr>\n",
       "    <tr>\n",
       "        <td style=\"padding-left: 1em; padding-right: 1em; text-align: center; vertical-align: top\">9.7769877819e+38</td>\n",
       "        <td style=\"padding-left: 1em; padding-right: 1em; text-align: center; vertical-align: top\">3.42585651878e+42</td>\n",
       "        <td style=\"padding-left: 1em; padding-right: 1em; text-align: center; vertical-align: top\">1.20042012418e+46</td>\n",
       "        <td style=\"padding-left: 1em; padding-right: 1em; text-align: center; vertical-align: top\">4.20627211513e+49</td>\n",
       "        <td style=\"padding-left: 1em; padding-right: 1em; text-align: center; vertical-align: top\">1.47387774914e+53</td>\n",
       "        <td style=\"padding-left: 1em; padding-right: 1em; text-align: center; vertical-align: top\">307.0</td>\n",
       "    </tr>\n",
       "    <tr>\n",
       "        <td style=\"padding-left: 1em; padding-right: 1em; text-align: center; vertical-align: top\">1.74249838463e+39</td>\n",
       "        <td style=\"padding-left: 1em; padding-right: 1em; text-align: center; vertical-align: top\">6.43504653444e+42</td>\n",
       "        <td style=\"padding-left: 1em; padding-right: 1em; text-align: center; vertical-align: top\">2.37646268517e+46</td>\n",
       "        <td style=\"padding-left: 1em; padding-right: 1em; text-align: center; vertical-align: top\">8.77627669633e+49</td>\n",
       "        <td style=\"padding-left: 1em; padding-right: 1em; text-align: center; vertical-align: top\">3.24107898395e+53</td>\n",
       "        <td style=\"padding-left: 1em; padding-right: 1em; text-align: center; vertical-align: top\">350.0</td>\n",
       "    </tr>\n",
       "    <tr>\n",
       "        <td style=\"padding-left: 1em; padding-right: 1em; text-align: center; vertical-align: top\">7.8810613223e+38</td>\n",
       "        <td style=\"padding-left: 1em; padding-right: 1em; text-align: center; vertical-align: top\">2.70793267034e+42</td>\n",
       "        <td style=\"padding-left: 1em; padding-right: 1em; text-align: center; vertical-align: top\">9.3044566553e+45</td>\n",
       "        <td style=\"padding-left: 1em; padding-right: 1em; text-align: center; vertical-align: top\">3.19701130676e+49</td>\n",
       "        <td style=\"padding-left: 1em; padding-right: 1em; text-align: center; vertical-align: top\">1.098493085e+53</td>\n",
       "        <td style=\"padding-left: 1em; padding-right: 1em; text-align: center; vertical-align: top\">318.0</td>\n",
       "    </tr>\n",
       "    <tr>\n",
       "        <td style=\"padding-left: 1em; padding-right: 1em; text-align: center; vertical-align: top\">7.80569967385e+38</td>\n",
       "        <td style=\"padding-left: 1em; padding-right: 1em; text-align: center; vertical-align: top\">2.67969669803e+42</td>\n",
       "        <td style=\"padding-left: 1em; padding-right: 1em; text-align: center; vertical-align: top\">9.19939876435e+45</td>\n",
       "        <td style=\"padding-left: 1em; padding-right: 1em; text-align: center; vertical-align: top\">3.1581535958e+49</td>\n",
       "        <td style=\"padding-left: 1em; padding-right: 1em; text-align: center; vertical-align: top\">1.08419412944e+53</td>\n",
       "        <td style=\"padding-left: 1em; padding-right: 1em; text-align: center; vertical-align: top\">304.0</td>\n",
       "    </tr>\n",
       "    <tr>\n",
       "        <td style=\"padding-left: 1em; padding-right: 1em; text-align: center; vertical-align: top\">8.21533236133e+38</td>\n",
       "        <td style=\"padding-left: 1em; padding-right: 1em; text-align: center; vertical-align: top\">2.83346813142e+42</td>\n",
       "        <td style=\"padding-left: 1em; padding-right: 1em; text-align: center; vertical-align: top\">9.77263158527e+45</td>\n",
       "        <td style=\"padding-left: 1em; padding-right: 1em; text-align: center; vertical-align: top\">3.37058063376e+49</td>\n",
       "        <td style=\"padding-left: 1em; padding-right: 1em; text-align: center; vertical-align: top\">1.16251326058e+53</td>\n",
       "        <td style=\"padding-left: 1em; padding-right: 1em; text-align: center; vertical-align: top\">302.0</td>\n",
       "    </tr>\n",
       "    <tr>\n",
       "        <td style=\"padding-left: 1em; padding-right: 1em; text-align: center; vertical-align: top\">1.03154373137e+40</td>\n",
       "        <td style=\"padding-left: 1em; padding-right: 1em; text-align: center; vertical-align: top\">4.4779313379e+43</td>\n",
       "        <td style=\"padding-left: 1em; padding-right: 1em; text-align: center; vertical-align: top\">1.94386999378e+47</td>\n",
       "        <td style=\"padding-left: 1em; padding-right: 1em; text-align: center; vertical-align: top\">8.438339643e+50</td>\n",
       "        <td style=\"padding-left: 1em; padding-right: 1em; text-align: center; vertical-align: top\">3.66308323903e+54</td>\n",
       "        <td style=\"padding-left: 1em; padding-right: 1em; text-align: center; vertical-align: top\">429.0</td>\n",
       "    </tr>\n",
       "    <tr>\n",
       "        <td style=\"padding-left: 1em; padding-right: 1em; text-align: center; vertical-align: top\">1.06603796545e+40</td>\n",
       "        <td style=\"padding-left: 1em; padding-right: 1em; text-align: center; vertical-align: top\">4.64152930157e+43</td>\n",
       "        <td style=\"padding-left: 1em; padding-right: 1em; text-align: center; vertical-align: top\">2.0209218579e+47</td>\n",
       "        <td style=\"padding-left: 1em; padding-right: 1em; text-align: center; vertical-align: top\">8.79909376931e+50</td>\n",
       "        <td style=\"padding-left: 1em; padding-right: 1em; text-align: center; vertical-align: top\">3.83112542716e+54</td>\n",
       "        <td style=\"padding-left: 1em; padding-right: 1em; text-align: center; vertical-align: top\">454.0</td>\n",
       "    </tr>\n",
       "    <tr>\n",
       "        <td style=\"padding-left: 1em; padding-right: 1em; text-align: center; vertical-align: top\">9.58222300686e+39</td>\n",
       "        <td style=\"padding-left: 1em; padding-right: 1em; text-align: center; vertical-align: top\">4.13185456056e+43</td>\n",
       "        <td style=\"padding-left: 1em; padding-right: 1em; text-align: center; vertical-align: top\">1.78165568651e+47</td>\n",
       "        <td style=\"padding-left: 1em; padding-right: 1em; text-align: center; vertical-align: top\">7.68249932024e+50</td>\n",
       "        <td style=\"padding-left: 1em; padding-right: 1em; text-align: center; vertical-align: top\">3.31269370689e+54</td>\n",
       "        <td style=\"padding-left: 1em; padding-right: 1em; text-align: center; vertical-align: top\">440.0</td>\n",
       "    </tr>\n",
       "    <tr>\n",
       "        <td style=\"padding-left: 1em; padding-right: 1em; text-align: center; vertical-align: top\">1.27363805063e+40</td>\n",
       "        <td style=\"padding-left: 1em; padding-right: 1em; text-align: center; vertical-align: top\">5.63584837405e+43</td>\n",
       "        <td style=\"padding-left: 1em; padding-right: 1em; text-align: center; vertical-align: top\">2.49386290552e+47</td>\n",
       "        <td style=\"padding-left: 1em; padding-right: 1em; text-align: center; vertical-align: top\">1.10353433569e+51</td>\n",
       "        <td style=\"padding-left: 1em; padding-right: 1em; text-align: center; vertical-align: top\">4.88313943543e+54</td>\n",
       "        <td style=\"padding-left: 1em; padding-right: 1em; text-align: center; vertical-align: top\">455.0</td>\n",
       "    </tr>\n",
       "    <tr>\n",
       "        <td style=\"padding-left: 1em; padding-right: 1em; text-align: center; vertical-align: top\">2.75466013862e+39</td>\n",
       "        <td style=\"padding-left: 1em; padding-right: 1em; text-align: center; vertical-align: top\">1.06054415337e+43</td>\n",
       "        <td style=\"padding-left: 1em; padding-right: 1em; text-align: center; vertical-align: top\">4.08309499047e+46</td>\n",
       "        <td style=\"padding-left: 1em; padding-right: 1em; text-align: center; vertical-align: top\">1.57199157133e+50</td>\n",
       "        <td style=\"padding-left: 1em; padding-right: 1em; text-align: center; vertical-align: top\">6.05216754962e+53</td>\n",
       "        <td style=\"padding-left: 1em; padding-right: 1em; text-align: center; vertical-align: top\">390.0</td>\n",
       "    </tr>\n",
       "</table>\n",
       "<table frame=\"box\" rules=\"cols\">\n",
       "    <tr>\n",
       "        <th style=\"padding-left: 1em; padding-right: 1em; text-align: center\">displacementpower_2</th>\n",
       "        <th style=\"padding-left: 1em; padding-right: 1em; text-align: center\">displacementpower_3</th>\n",
       "        <th style=\"padding-left: 1em; padding-right: 1em; text-align: center\">displacementpower_4</th>\n",
       "        <th style=\"padding-left: 1em; padding-right: 1em; text-align: center\">displacementpower_5</th>\n",
       "        <th style=\"padding-left: 1em; padding-right: 1em; text-align: center\">displacementpower_6</th>\n",
       "    </tr>\n",
       "    <tr>\n",
       "        <td style=\"padding-left: 1em; padding-right: 1em; text-align: center; vertical-align: top\">94249.0</td>\n",
       "        <td style=\"padding-left: 1em; padding-right: 1em; text-align: center; vertical-align: top\">28934443.0</td>\n",
       "        <td style=\"padding-left: 1em; padding-right: 1em; text-align: center; vertical-align: top\">8882874001.0</td>\n",
       "        <td style=\"padding-left: 1em; padding-right: 1em; text-align: center; vertical-align: top\">2.72704231831e+12</td>\n",
       "        <td style=\"padding-left: 1em; padding-right: 1em; text-align: center; vertical-align: top\">8.3720199172e+14</td>\n",
       "    </tr>\n",
       "    <tr>\n",
       "        <td style=\"padding-left: 1em; padding-right: 1em; text-align: center; vertical-align: top\">122500.0</td>\n",
       "        <td style=\"padding-left: 1em; padding-right: 1em; text-align: center; vertical-align: top\">42875000.0</td>\n",
       "        <td style=\"padding-left: 1em; padding-right: 1em; text-align: center; vertical-align: top\">15006250000.0</td>\n",
       "        <td style=\"padding-left: 1em; padding-right: 1em; text-align: center; vertical-align: top\">5.2521875e+12</td>\n",
       "        <td style=\"padding-left: 1em; padding-right: 1em; text-align: center; vertical-align: top\">1.838265625e+15</td>\n",
       "    </tr>\n",
       "    <tr>\n",
       "        <td style=\"padding-left: 1em; padding-right: 1em; text-align: center; vertical-align: top\">101124.0</td>\n",
       "        <td style=\"padding-left: 1em; padding-right: 1em; text-align: center; vertical-align: top\">32157432.0</td>\n",
       "        <td style=\"padding-left: 1em; padding-right: 1em; text-align: center; vertical-align: top\">10226063376.0</td>\n",
       "        <td style=\"padding-left: 1em; padding-right: 1em; text-align: center; vertical-align: top\">3.25188815357e+12</td>\n",
       "        <td style=\"padding-left: 1em; padding-right: 1em; text-align: center; vertical-align: top\">1.03410043283e+15</td>\n",
       "    </tr>\n",
       "    <tr>\n",
       "        <td style=\"padding-left: 1em; padding-right: 1em; text-align: center; vertical-align: top\">92416.0</td>\n",
       "        <td style=\"padding-left: 1em; padding-right: 1em; text-align: center; vertical-align: top\">28094464.0</td>\n",
       "        <td style=\"padding-left: 1em; padding-right: 1em; text-align: center; vertical-align: top\">8540717056.0</td>\n",
       "        <td style=\"padding-left: 1em; padding-right: 1em; text-align: center; vertical-align: top\">2.59637798502e+12</td>\n",
       "        <td style=\"padding-left: 1em; padding-right: 1em; text-align: center; vertical-align: top\">7.89298907447e+14</td>\n",
       "    </tr>\n",
       "    <tr>\n",
       "        <td style=\"padding-left: 1em; padding-right: 1em; text-align: center; vertical-align: top\">91204.0</td>\n",
       "        <td style=\"padding-left: 1em; padding-right: 1em; text-align: center; vertical-align: top\">27543608.0</td>\n",
       "        <td style=\"padding-left: 1em; padding-right: 1em; text-align: center; vertical-align: top\">8318169616.0</td>\n",
       "        <td style=\"padding-left: 1em; padding-right: 1em; text-align: center; vertical-align: top\">2.51208722403e+12</td>\n",
       "        <td style=\"padding-left: 1em; padding-right: 1em; text-align: center; vertical-align: top\">7.58650341658e+14</td>\n",
       "    </tr>\n",
       "    <tr>\n",
       "        <td style=\"padding-left: 1em; padding-right: 1em; text-align: center; vertical-align: top\">184041.0</td>\n",
       "        <td style=\"padding-left: 1em; padding-right: 1em; text-align: center; vertical-align: top\">78953589.0</td>\n",
       "        <td style=\"padding-left: 1em; padding-right: 1em; text-align: center; vertical-align: top\">33871089681.0</td>\n",
       "        <td style=\"padding-left: 1em; padding-right: 1em; text-align: center; vertical-align: top\">1.45306974731e+13</td>\n",
       "        <td style=\"padding-left: 1em; padding-right: 1em; text-align: center; vertical-align: top\">6.23366921598e+15</td>\n",
       "    </tr>\n",
       "    <tr>\n",
       "        <td style=\"padding-left: 1em; padding-right: 1em; text-align: center; vertical-align: top\">206116.0</td>\n",
       "        <td style=\"padding-left: 1em; padding-right: 1em; text-align: center; vertical-align: top\">93576664.0</td>\n",
       "        <td style=\"padding-left: 1em; padding-right: 1em; text-align: center; vertical-align: top\">42483805456.0</td>\n",
       "        <td style=\"padding-left: 1em; padding-right: 1em; text-align: center; vertical-align: top\">1.9287647677e+13</td>\n",
       "        <td style=\"padding-left: 1em; padding-right: 1em; text-align: center; vertical-align: top\">8.75659204537e+15</td>\n",
       "    </tr>\n",
       "    <tr>\n",
       "        <td style=\"padding-left: 1em; padding-right: 1em; text-align: center; vertical-align: top\">193600.0</td>\n",
       "        <td style=\"padding-left: 1em; padding-right: 1em; text-align: center; vertical-align: top\">85184000.0</td>\n",
       "        <td style=\"padding-left: 1em; padding-right: 1em; text-align: center; vertical-align: top\">37480960000.0</td>\n",
       "        <td style=\"padding-left: 1em; padding-right: 1em; text-align: center; vertical-align: top\">1.64916224e+13</td>\n",
       "        <td style=\"padding-left: 1em; padding-right: 1em; text-align: center; vertical-align: top\">7.256313856e+15</td>\n",
       "    </tr>\n",
       "    <tr>\n",
       "        <td style=\"padding-left: 1em; padding-right: 1em; text-align: center; vertical-align: top\">207025.0</td>\n",
       "        <td style=\"padding-left: 1em; padding-right: 1em; text-align: center; vertical-align: top\">94196375.0</td>\n",
       "        <td style=\"padding-left: 1em; padding-right: 1em; text-align: center; vertical-align: top\">42859350625.0</td>\n",
       "        <td style=\"padding-left: 1em; padding-right: 1em; text-align: center; vertical-align: top\">1.95010045344e+13</td>\n",
       "        <td style=\"padding-left: 1em; padding-right: 1em; text-align: center; vertical-align: top\">8.87295706314e+15</td>\n",
       "    </tr>\n",
       "    <tr>\n",
       "        <td style=\"padding-left: 1em; padding-right: 1em; text-align: center; vertical-align: top\">152100.0</td>\n",
       "        <td style=\"padding-left: 1em; padding-right: 1em; text-align: center; vertical-align: top\">59319000.0</td>\n",
       "        <td style=\"padding-left: 1em; padding-right: 1em; text-align: center; vertical-align: top\">23134410000.0</td>\n",
       "        <td style=\"padding-left: 1em; padding-right: 1em; text-align: center; vertical-align: top\">9.0224199e+12</td>\n",
       "        <td style=\"padding-left: 1em; padding-right: 1em; text-align: center; vertical-align: top\">3.518743761e+15</td>\n",
       "    </tr>\n",
       "</table>\n",
       "<table frame=\"box\" rules=\"cols\">\n",
       "    <tr>\n",
       "        <th style=\"padding-left: 1em; padding-right: 1em; text-align: center\">displacementpower_7</th>\n",
       "        <th style=\"padding-left: 1em; padding-right: 1em; text-align: center\">displacementpower_8</th>\n",
       "        <th style=\"padding-left: 1em; padding-right: 1em; text-align: center\">displacementpower_9</th>\n",
       "        <th style=\"padding-left: 1em; padding-right: 1em; text-align: center\">displacementpower_10</th>\n",
       "        <th style=\"padding-left: 1em; padding-right: 1em; text-align: center\">...</th>\n",
       "    </tr>\n",
       "    <tr>\n",
       "        <td style=\"padding-left: 1em; padding-right: 1em; text-align: center; vertical-align: top\">2.57021011458e+17</td>\n",
       "        <td style=\"padding-left: 1em; padding-right: 1em; text-align: center; vertical-align: top\">7.89054505176e+19</td>\n",
       "        <td style=\"padding-left: 1em; padding-right: 1em; text-align: center; vertical-align: top\">2.42239733089e+22</td>\n",
       "        <td style=\"padding-left: 1em; padding-right: 1em; text-align: center; vertical-align: top\">7.43675980584e+24</td>\n",
       "        <td style=\"padding-left: 1em; padding-right: 1em; text-align: center; vertical-align: top\">...</td>\n",
       "    </tr>\n",
       "    <tr>\n",
       "        <td style=\"padding-left: 1em; padding-right: 1em; text-align: center; vertical-align: top\">6.4339296875e+17</td>\n",
       "        <td style=\"padding-left: 1em; padding-right: 1em; text-align: center; vertical-align: top\">2.25187539062e+20</td>\n",
       "        <td style=\"padding-left: 1em; padding-right: 1em; text-align: center; vertical-align: top\">7.88156386719e+22</td>\n",
       "        <td style=\"padding-left: 1em; padding-right: 1em; text-align: center; vertical-align: top\">2.75854735352e+25</td>\n",
       "        <td style=\"padding-left: 1em; padding-right: 1em; text-align: center; vertical-align: top\">...</td>\n",
       "    </tr>\n",
       "    <tr>\n",
       "        <td style=\"padding-left: 1em; padding-right: 1em; text-align: center; vertical-align: top\">3.28843937641e+17</td>\n",
       "        <td style=\"padding-left: 1em; padding-right: 1em; text-align: center; vertical-align: top\">1.0457237217e+20</td>\n",
       "        <td style=\"padding-left: 1em; padding-right: 1em; text-align: center; vertical-align: top\">3.325401435e+22</td>\n",
       "        <td style=\"padding-left: 1em; padding-right: 1em; text-align: center; vertical-align: top\">1.05747765633e+25</td>\n",
       "        <td style=\"padding-left: 1em; padding-right: 1em; text-align: center; vertical-align: top\">...</td>\n",
       "    </tr>\n",
       "    <tr>\n",
       "        <td style=\"padding-left: 1em; padding-right: 1em; text-align: center; vertical-align: top\">2.39946867864e+17</td>\n",
       "        <td style=\"padding-left: 1em; padding-right: 1em; text-align: center; vertical-align: top\">7.29438478306e+19</td>\n",
       "        <td style=\"padding-left: 1em; padding-right: 1em; text-align: center; vertical-align: top\">2.21749297405e+22</td>\n",
       "        <td style=\"padding-left: 1em; padding-right: 1em; text-align: center; vertical-align: top\">6.74117864112e+24</td>\n",
       "        <td style=\"padding-left: 1em; padding-right: 1em; text-align: center; vertical-align: top\">...</td>\n",
       "    </tr>\n",
       "    <tr>\n",
       "        <td style=\"padding-left: 1em; padding-right: 1em; text-align: center; vertical-align: top\">2.29112403181e+17</td>\n",
       "        <td style=\"padding-left: 1em; padding-right: 1em; text-align: center; vertical-align: top\">6.91919457605e+19</td>\n",
       "        <td style=\"padding-left: 1em; padding-right: 1em; text-align: center; vertical-align: top\">2.08959676197e+22</td>\n",
       "        <td style=\"padding-left: 1em; padding-right: 1em; text-align: center; vertical-align: top\">6.31058222114e+24</td>\n",
       "        <td style=\"padding-left: 1em; padding-right: 1em; text-align: center; vertical-align: top\">...</td>\n",
       "    </tr>\n",
       "    <tr>\n",
       "        <td style=\"padding-left: 1em; padding-right: 1em; text-align: center; vertical-align: top\">2.67424409366e+18</td>\n",
       "        <td style=\"padding-left: 1em; padding-right: 1em; text-align: center; vertical-align: top\">1.14725071618e+21</td>\n",
       "        <td style=\"padding-left: 1em; padding-right: 1em; text-align: center; vertical-align: top\">4.92170557241e+23</td>\n",
       "        <td style=\"padding-left: 1em; padding-right: 1em; text-align: center; vertical-align: top\">2.11141169056e+26</td>\n",
       "        <td style=\"padding-left: 1em; padding-right: 1em; text-align: center; vertical-align: top\">...</td>\n",
       "    </tr>\n",
       "    <tr>\n",
       "        <td style=\"padding-left: 1em; padding-right: 1em; text-align: center; vertical-align: top\">3.9754927886e+18</td>\n",
       "        <td style=\"padding-left: 1em; padding-right: 1em; text-align: center; vertical-align: top\">1.80487372602e+21</td>\n",
       "        <td style=\"padding-left: 1em; padding-right: 1em; text-align: center; vertical-align: top\">8.19412671615e+23</td>\n",
       "        <td style=\"padding-left: 1em; padding-right: 1em; text-align: center; vertical-align: top\">3.72013352913e+26</td>\n",
       "        <td style=\"padding-left: 1em; padding-right: 1em; text-align: center; vertical-align: top\">...</td>\n",
       "    </tr>\n",
       "    <tr>\n",
       "        <td style=\"padding-left: 1em; padding-right: 1em; text-align: center; vertical-align: top\">3.19277809664e+18</td>\n",
       "        <td style=\"padding-left: 1em; padding-right: 1em; text-align: center; vertical-align: top\">1.40482236252e+21</td>\n",
       "        <td style=\"padding-left: 1em; padding-right: 1em; text-align: center; vertical-align: top\">6.1812183951e+23</td>\n",
       "        <td style=\"padding-left: 1em; padding-right: 1em; text-align: center; vertical-align: top\">2.71973609384e+26</td>\n",
       "        <td style=\"padding-left: 1em; padding-right: 1em; text-align: center; vertical-align: top\">...</td>\n",
       "    </tr>\n",
       "    <tr>\n",
       "        <td style=\"padding-left: 1em; padding-right: 1em; text-align: center; vertical-align: top\">4.03719546373e+18</td>\n",
       "        <td style=\"padding-left: 1em; padding-right: 1em; text-align: center; vertical-align: top\">1.836923936e+21</td>\n",
       "        <td style=\"padding-left: 1em; padding-right: 1em; text-align: center; vertical-align: top\">8.35800390878e+23</td>\n",
       "        <td style=\"padding-left: 1em; padding-right: 1em; text-align: center; vertical-align: top\">3.8028917785e+26</td>\n",
       "        <td style=\"padding-left: 1em; padding-right: 1em; text-align: center; vertical-align: top\">...</td>\n",
       "    </tr>\n",
       "    <tr>\n",
       "        <td style=\"padding-left: 1em; padding-right: 1em; text-align: center; vertical-align: top\">1.37231006679e+18</td>\n",
       "        <td style=\"padding-left: 1em; padding-right: 1em; text-align: center; vertical-align: top\">5.35200926048e+20</td>\n",
       "        <td style=\"padding-left: 1em; padding-right: 1em; text-align: center; vertical-align: top\">2.08728361159e+23</td>\n",
       "        <td style=\"padding-left: 1em; padding-right: 1em; text-align: center; vertical-align: top\">8.14040608519e+25</td>\n",
       "        <td style=\"padding-left: 1em; padding-right: 1em; text-align: center; vertical-align: top\">...</td>\n",
       "    </tr>\n",
       "</table>\n",
       "[392 rows x 46 columns]<br/>Note: Only the head of the SFrame is printed.<br/>You can use print_rows(num_rows=m, num_columns=n) to print more rows and columns.\n",
       "</div>"
      ],
      "text/plain": [
       "Columns:\n",
       "\thppower_1\tint\n",
       "\thppower_2\tfloat\n",
       "\thppower_3\tfloat\n",
       "\thppower_4\tfloat\n",
       "\thppower_5\tfloat\n",
       "\thppower_6\tfloat\n",
       "\thppower_7\tfloat\n",
       "\thppower_8\tfloat\n",
       "\thppower_9\tfloat\n",
       "\thppower_10\tfloat\n",
       "\thppower_11\tfloat\n",
       "\thppower_12\tfloat\n",
       "\thppower_13\tfloat\n",
       "\thppower_14\tfloat\n",
       "\thppower_15\tfloat\n",
       "\tweightpower_1\tint\n",
       "\tweightpower_2\tfloat\n",
       "\tweightpower_3\tfloat\n",
       "\tweightpower_4\tfloat\n",
       "\tweightpower_5\tfloat\n",
       "\tweightpower_6\tfloat\n",
       "\tweightpower_7\tfloat\n",
       "\tweightpower_8\tfloat\n",
       "\tweightpower_9\tfloat\n",
       "\tweightpower_10\tfloat\n",
       "\tweightpower_11\tfloat\n",
       "\tweightpower_12\tfloat\n",
       "\tweightpower_13\tfloat\n",
       "\tweightpower_14\tfloat\n",
       "\tweightpower_15\tfloat\n",
       "\tdisplacementpower_1\tfloat\n",
       "\tdisplacementpower_2\tfloat\n",
       "\tdisplacementpower_3\tfloat\n",
       "\tdisplacementpower_4\tfloat\n",
       "\tdisplacementpower_5\tfloat\n",
       "\tdisplacementpower_6\tfloat\n",
       "\tdisplacementpower_7\tfloat\n",
       "\tdisplacementpower_8\tfloat\n",
       "\tdisplacementpower_9\tfloat\n",
       "\tdisplacementpower_10\tfloat\n",
       "\tdisplacementpower_11\tfloat\n",
       "\tdisplacementpower_12\tfloat\n",
       "\tdisplacementpower_13\tfloat\n",
       "\tdisplacementpower_14\tfloat\n",
       "\tdisplacementpower_15\tfloat\n",
       "\tmpg\tint\n",
       "\n",
       "Rows: 392\n",
       "\n",
       "Data:\n",
       "+-----------+-----------+------------+--------------+-------------------+\n",
       "| hppower_1 | hppower_2 | hppower_3  |  hppower_4   |     hppower_5     |\n",
       "+-----------+-----------+------------+--------------+-------------------+\n",
       "|    130    |  16900.0  | 2197000.0  | 285610000.0  |   37129300000.0   |\n",
       "|    165    |  27225.0  | 4492125.0  | 741200625.0  | 1.22298103125e+11 |\n",
       "|    150    |  22500.0  | 3375000.0  | 506250000.0  |   75937500000.0   |\n",
       "|    150    |  22500.0  | 3375000.0  | 506250000.0  |   75937500000.0   |\n",
       "|    140    |  19600.0  | 2744000.0  | 384160000.0  |   53782400000.0   |\n",
       "|    198    |  39204.0  | 7762392.0  | 1536953616.0 | 3.04316815968e+11 |\n",
       "|    220    |  48400.0  | 10648000.0 | 2342560000.0 |    5.153632e+11   |\n",
       "|    215    |  46225.0  | 9938375.0  | 2136750625.0 | 4.59401384375e+11 |\n",
       "|    225    |  50625.0  | 11390625.0 | 2562890625.0 | 5.76650390625e+11 |\n",
       "|    190    |  36100.0  | 6859000.0  | 1303210000.0 |    2.476099e+11   |\n",
       "+-----------+-----------+------------+--------------+-------------------+\n",
       "+-------------------+-------------------+-------------------+-------------------+\n",
       "|     hppower_6     |     hppower_7     |     hppower_8     |     hppower_9     |\n",
       "+-------------------+-------------------+-------------------+-------------------+\n",
       "|    4.826809e+12   |   6.2748517e+14   |   8.15730721e+16  |  1.0604499373e+19 |\n",
       "| 2.01791870156e+13 | 3.32956585758e+15 |  5.493783665e+17  | 9.06474304726e+19 |\n",
       "|   1.1390625e+13   |   1.70859375e+15  |  2.562890625e+17  |  3.8443359375e+19 |\n",
       "|   1.1390625e+13   |   1.70859375e+15  |  2.562890625e+17  |  3.8443359375e+19 |\n",
       "|    7.529536e+12   |   1.05413504e+15  |  1.475789056e+17  |  2.0661046784e+19 |\n",
       "| 6.02547295617e+13 | 1.19304364532e+16 | 2.36222641774e+18 | 4.67720830712e+20 |\n",
       "|   1.13379904e+14  |  2.494357888e+16  |  5.4875873536e+18 | 1.20726921779e+21 |\n",
       "| 9.87712976406e+13 | 2.12358289927e+16 | 4.56570323344e+18 | 9.81626195189e+20 |\n",
       "| 1.29746337891e+14 | 2.91929260254e+16 | 6.56840835571e+18 | 1.47789188004e+21 |\n",
       "|   4.7045881e+13   |   8.93871739e+15  |  1.6983563041e+18 | 3.22687697779e+20 |\n",
       "+-------------------+-------------------+-------------------+-------------------+\n",
       "+-------------------+-------------------+-------------------+-------------------+\n",
       "|     hppower_10    |     hppower_11    |     hppower_12    |     hppower_13    |\n",
       "+-------------------+-------------------+-------------------+-------------------+\n",
       "| 1.37858491849e+21 | 1.79216039404e+23 | 2.32980851225e+25 | 3.02875106592e+27 |\n",
       "|  1.4956826028e+22 | 2.46787629462e+24 | 4.07199588612e+26 | 6.71879321209e+28 |\n",
       "| 5.76650390625e+21 | 8.64975585938e+23 | 1.29746337891e+26 | 1.94619506836e+28 |\n",
       "| 5.76650390625e+21 | 8.64975585938e+23 | 1.29746337891e+26 | 1.94619506836e+28 |\n",
       "| 2.89254654976e+21 | 4.04956516966e+23 | 5.66939123753e+25 | 7.93714773254e+27 |\n",
       "| 9.26087244809e+22 | 1.83365274472e+25 | 3.63063243455e+27 | 7.18865222041e+29 |\n",
       "| 2.65599227914e+23 | 5.84318301411e+25 |  1.2855002631e+28 | 2.82810057883e+30 |\n",
       "| 2.11049631966e+23 | 4.53756708726e+25 | 9.75576923761e+27 | 2.09749038609e+30 |\n",
       "| 3.32525673008e+23 | 7.48182764268e+25 |  1.6834112196e+28 | 3.78767524411e+30 |\n",
       "|  6.1310662578e+22 | 1.16490258898e+25 | 2.21331491907e+27 | 4.20529834623e+29 |\n",
       "+-------------------+-------------------+-------------------+-------------------+\n",
       "+-------------------+-------------------+---------------+---------------+\n",
       "|     hppower_14    |     hppower_15    | weightpower_1 | weightpower_2 |\n",
       "+-------------------+-------------------+---------------+---------------+\n",
       "|  3.9373763857e+29 | 5.11858930141e+31 |      3504     |   12278016.0  |\n",
       "| 1.10860087999e+31 | 1.82919145199e+33 |      3693     |   13638249.0  |\n",
       "| 2.91929260254e+30 | 4.37893890381e+32 |      3436     |   11806096.0  |\n",
       "| 2.91929260254e+30 | 4.37893890381e+32 |      3433     |   11785489.0  |\n",
       "| 1.11120068256e+30 | 1.55568095558e+32 |      3449     |   11895601.0  |\n",
       "| 1.42335313964e+32 | 2.81823921649e+34 |      4341     |   18844281.0  |\n",
       "| 6.22182127343e+32 | 1.36880068015e+35 |      4354     |   18957316.0  |\n",
       "| 4.50960433009e+32 | 9.69564930969e+34 |      4312     |   18593344.0  |\n",
       "| 8.52226929924e+32 | 1.91751059233e+35 |      4425     |   19580625.0  |\n",
       "| 7.99006685783e+31 | 1.51811270299e+34 |      3850     |   14822500.0  |\n",
       "+-------------------+-------------------+---------------+---------------+\n",
       "+---------------+-------------------+-------------------+-----+\n",
       "| weightpower_3 |   weightpower_4   |   weightpower_5   | ... |\n",
       "+---------------+-------------------+-------------------+-----+\n",
       "| 43022168064.0 | 1.50749676896e+14 | 5.28226867844e+17 | ... |\n",
       "| 50366053557.0 | 1.86001835786e+14 | 6.86904779558e+17 | ... |\n",
       "| 40565745856.0 | 1.39383902761e+14 | 4.78923089888e+17 | ... |\n",
       "| 40459583737.0 | 1.38897750969e+14 | 4.76835979077e+17 | ... |\n",
       "| 41027927849.0 | 1.41505323151e+14 | 4.88051859548e+17 | ... |\n",
       "| 81803023821.0 | 3.55106926407e+14 | 1.54151916753e+18 | ... |\n",
       "| 82540153864.0 | 3.59379829924e+14 | 1.56473977949e+18 | ... |\n",
       "| 80174499328.0 | 3.45712441102e+14 | 1.49071204603e+18 | ... |\n",
       "| 86644265625.0 | 3.83400875391e+14 |  1.6965488736e+18 | ... |\n",
       "| 57066625000.0 |  2.1970650625e+14 | 8.45870049062e+17 | ... |\n",
       "+---------------+-------------------+-------------------+-----+\n",
       "[392 rows x 46 columns]\n",
       "Note: Only the head of the SFrame is printed.\n",
       "You can use print_rows(num_rows=m, num_columns=n) to print more rows and columns."
      ]
     },
     "execution_count": 49,
     "metadata": {},
     "output_type": "execute_result"
    }
   ],
   "source": [
    "multi_data"
   ]
  },
  {
   "cell_type": "markdown",
   "metadata": {},
   "source": [
    "At this point, we're unsure if a 15th order polynomial is right for our data. Let's find the right complexity for our. A very high order polynomial leads to overfitting i.e., our model works only well with our training set and doesn't perform well in the real world. "
   ]
  },
  {
   "cell_type": "code",
   "execution_count": 20,
   "metadata": {
    "collapsed": false
   },
   "outputs": [
    {
     "name": "stdout",
     "output_type": "stream",
     "text": [
      "(3191.8507493162506, 7)\n",
      "(3193.6333369212625, 8)\n",
      "(3210.3263883428162, 3)\n",
      "(3213.1192394256623, 9)\n",
      "(3218.2995731649835, 2)\n",
      "(3226.2100058519532, 10)\n",
      "(3227.0553529439294, 12)\n",
      "(3228.0741428791434, 11)\n",
      "(3230.681772101384, 13)\n",
      "(3231.9992259291439, 6)\n",
      "(3240.1715611568943, 14)\n",
      "(3252.9277920464683, 15)\n",
      "(3274.6487785211175, 4)\n",
      "(3287.4535708717963, 5)\n",
      "(3781.371176479639, 1)\n"
     ]
    }
   ],
   "source": [
    "import numpy as np\n",
    "\n",
    "#rss_list stores a tuple containing degree and rss value \n",
    "rss_list = []\n",
    "\n",
    "#going to consider polynomial upto the power of 15\n",
    "for i in range(1,16):\n",
    "    \n",
    "    #Gathering necessary data from the training set\n",
    "    poly_data = polynomial_sframe(training['hp'],i,\"hp\")\n",
    "    poly_data.add_columns(polynomial_sframe(training['weight'],i,\"weight\"))\n",
    "    poly_data.add_columns(polynomial_sframe(training['displacement'],i,\"displacement\"))\n",
    "    #column_names\n",
    "    my_features = poly_data.column_names()\n",
    "    \n",
    "    poly_data['mpg'] = training['mpg']\n",
    "\n",
    "    #Creating a regression model \n",
    "    model = graphlab.linear_regression.create(poly_data, target = 'mpg', features = my_features, validation_set = None, verbose=False)\n",
    "    \n",
    "    #Getting necessary data from the validation set\n",
    "    validation_data = polynomial_sframe(validation['hp'],i,\"hp\")\n",
    "    validation_data.add_columns(polynomial_sframe(validation['weight'],i,\"weight\"))\n",
    "    validation_data.add_columns(polynomial_sframe(validation['displacement'],i,\"displacement\"))\n",
    "    \n",
    "    #Predicted mpg\n",
    "    prediction = model.predict(validation_data)\n",
    "    \n",
    "    #Computing the RSS (Residual sum of squares)\n",
    "    difference = validation['mpg'] - prediction\n",
    "    difference = difference ** 2 #Squaring all elements in the SFrame\n",
    "    \n",
    "    difference = np.array(difference) \n",
    "    rss = np.sum(difference)\n",
    "    \n",
    "    rss_list.append((rss,i)) #Append degree of the polynomial and RSS (Used for sorting later)\n",
    "\n",
    "sorted_rss = sorted(rss_list, key=lambda tup: tup[0])    \n",
    "degree = sorted_rss[0][1]\n",
    "\n",
    "for i in sorted_rss:\n",
    "    print i\n",
    "#RSS is least for polynomial of degree 7 and highest for polynomial of degree 1 and RSS of degree 7 was found to be 3192 (approx)"
   ]
  },
  {
   "cell_type": "markdown",
   "metadata": {},
   "source": [
    "We now know that our 7th order polynomial worked best on our validation set. Let's use it and compute the accuracy on our testing set. "
   ]
  },
  {
   "cell_type": "code",
   "execution_count": 28,
   "metadata": {
    "collapsed": false
   },
   "outputs": [
    {
     "name": "stdout",
     "output_type": "stream",
     "text": [
      "2321.40622431\n"
     ]
    }
   ],
   "source": [
    "#Gathering testing data into an SFrame\n",
    "def prediction(testing, model):\n",
    "    testing_data = polynomial_sframe(testing['hp'],degree,\"hp\")\n",
    "    testing_data.add_columns(polynomial_sframe(testing['weight'],degree,\"weight\"))\n",
    "    testing_data.add_columns(polynomial_sframe(testing['displacement'],degree,\"displacement\"))\n",
    "    testing_data.add_columns(polynomial_sframe(testing['acceleration'],degree,\"acceleration\"))\n",
    "    #Prediction step\n",
    "    testing_prediction = model.predict(testing_data)\n",
    "    \n",
    "    return (testing_prediction)\n",
    "\n",
    "#Computing the RSS (Residual sum of squares)\n",
    "test_prediction = prediction(testing, model)\n",
    "difference = testing['mpg'] - test_prediction\n",
    "difference = difference ** 2 #Squaring all elements in the SFrame\n",
    "    \n",
    "difference = np.array(difference) \n",
    "rss = np.sum(difference)\n",
    "\n",
    "print rss\n"
   ]
  },
  {
   "cell_type": "markdown",
   "metadata": {},
   "source": [
    "The RSS is better on our testing data than our validation data. It's found to be 2321. \n",
    "Let's plot vs mpg on our testing set and see how it perfomed. "
   ]
  },
  {
   "cell_type": "code",
   "execution_count": 96,
   "metadata": {
    "collapsed": false
   },
   "outputs": [
    {
     "data": {
      "text/plain": [
       "<matplotlib.text.Text at 0x11b1b3750>"
      ]
     },
     "execution_count": 96,
     "metadata": {},
     "output_type": "execute_result"
    },
    {
     "data": {
      "image/png": "[encoded data removed]",
      "text/plain": [
       "<matplotlib.figure.Figure at 0x124580110>"
      ]
     },
     "metadata": {},
     "output_type": "display_data"
    }
   ],
   "source": [
    "plt.plot(testing['weight'],testing['mpg'],'.',\n",
    "        testing['weight'], test_prediction,'.')\n",
    "plt.title('Multiple Regression: weight - mpg')\n",
    "plt.xlabel('weight')\n",
    "plt.ylabel('MPG')"
   ]
  },
  {
   "cell_type": "markdown",
   "metadata": {},
   "source": [
    "# Ridge Regression"
   ]
  },
  {
   "cell_type": "markdown",
   "metadata": {},
   "source": [
    "In ridge regression, we're gonna analyze the weight of our coefficients and maybe shrink them if they're too big. \n",
    "Let's write up a few functions which might help us in this process. "
   ]
  },
  {
   "cell_type": "code",
   "execution_count": 46,
   "metadata": {
    "collapsed": true
   },
   "outputs": [],
   "source": [
    "def get_numpy_data(data_sframe, features, output):\n",
    "    data_sframe['constant'] = 1 # Adding a constant column to our SFrame\n",
    "    features = ['constant'] + features # this is how you combine two lists\n",
    "    # select the columns of data_SFrame given by the features list into the SFrame features_sframe (now including constant):\n",
    "    features_sframe = graphlab.SFrame()\n",
    "    for i in features:\n",
    "        features_sframe[i] = data_sframe[i]\n",
    "    #Convert SFrame to a feature matrix\n",
    "    feature_matrix = features_sframe.to_numpy()\n",
    "    #Assign the output\n",
    "    output_sarray = data_sframe[output]\n",
    "    #Convert the SArray into a numpy array by first converting it to a list\n",
    "    output_array = output_sarray.to_numpy()\n",
    "    return(feature_matrix, output_array)\n",
    "\n",
    "def feature_derivative_ridge(errors, feature, weight, l2_penalty, feature_is_constant):\n",
    "    # If feature_is_constant is True, derivative is twice the dot product of errors and feature\n",
    "    derivative = 2*(np.dot(errors, feature))\n",
    "    # Otherwise, derivative is twice the dot product plus 2*l2_penalty*weight\n",
    "    if feature_is_constant==False:\n",
    "        derivative+= 2*l2_penalty*weight\n",
    "    return derivative\n",
    "\n",
    "def ridge_regression_gradient_descent(feature_matrix, output, initial_weights, step_size, l2_penalty, max_iterations=100):\n",
    "    #Convert to a numpy array\n",
    "    weights = np.array(initial_weights) \n",
    "    iteration=0\n",
    "    #while not reached maximum number of iterations:\n",
    "    while iteration < max_iterations:\n",
    "        prediction = predict_output(feature_matrix,weights)\n",
    "        errors = prediction -output\n",
    "        #Update the value of each weight\n",
    "        for i in xrange(len(weights)):\n",
    "            if i==0:\n",
    "                derivative = feature_derivative_ridge(errors, feature_matrix[:,i],weights[i],l2_penalty,True)\n",
    "            else:\n",
    "                derivative = feature_derivative_ridge(errors, feature_matrix[:,i],weights[i],l2_penalty,False)\n",
    "            # compute the derivative for weight[i].\n",
    "            weights[i]-=step_size*derivative\n",
    "        iteration+=1\n",
    "    return weights\n",
    "\n",
    "def predict_output(feature_matrix, weights):\n",
    "    # assume feature_matrix is a numpy matrix containing the features as columns and weights is also a numpy array\n",
    "    predictions = np.dot(feature_matrix, weights)\n",
    "    return(predictions)"
   ]
  },
  {
   "cell_type": "markdown",
   "metadata": {},
   "source": [
    "Let's define some of our features and have the complexity be 7"
   ]
  },
  {
   "cell_type": "code",
   "execution_count": 44,
   "metadata": {
    "collapsed": false
   },
   "outputs": [],
   "source": [
    "model_features = ['weight', 'hp','displacement'] # sqft_living15 is the average squarefeet for the nearest 15 neighbors. \n",
    "my_output = 'mpg'\n",
    "(feature_matrix, output) = get_numpy_data(training, model_features, my_output)\n",
    "(test_feature_matrix, test_output) = get_numpy_data(testing, model_features, my_output)\n",
    "initial_weights = np.array([0.0,0.0,0.0,0.0])\n",
    "step_size = 1e-12\n",
    "max_iterations = 1000"
   ]
  },
  {
   "cell_type": "markdown",
   "metadata": {},
   "source": [
    "Let's set out l2_penalty to different values"
   ]
  },
  {
   "cell_type": "code",
   "execution_count": 47,
   "metadata": {
    "collapsed": false
   },
   "outputs": [
    {
     "name": "stdout",
     "output_type": "stream",
     "text": [
      "[  3.11951830e-06   6.21662862e-03   2.00509823e-04   2.36593783e-04]\n"
     ]
    }
   ],
   "source": [
    "l2_penalty = 0.0\n",
    "multiple_weights_0_penalty = ridge_regression_gradient_descent(feature_matrix, output, initial_weights, step_size, l2_penalty, max_iterations)\n",
    "print multiple_weights_0_penalty"
   ]
  },
  {
   "cell_type": "code",
   "execution_count": 48,
   "metadata": {
    "collapsed": false
   },
   "outputs": [
    {
     "name": "stdout",
     "output_type": "stream",
     "text": [
      "[  8.30525479e-06   1.15858506e-04   4.01153603e-06   7.17626637e-06]\n"
     ]
    }
   ],
   "source": [
    "l2_penalty = 1e11\n",
    "multiple_weights_high_penalty = ridge_regression_gradient_descent(feature_matrix, output, initial_weights, step_size, l2_penalty, max_iterations)\n",
    "print multiple_weights_high_penalty"
   ]
  },
  {
   "cell_type": "markdown",
   "metadata": {},
   "source": [
    "Lets make RSS prediction on three weights - initial weight, low regularization and high regularization"
   ]
  },
  {
   "cell_type": "code",
   "execution_count": 52,
   "metadata": {
    "collapsed": true
   },
   "outputs": [],
   "source": [
    "predict_initial = predict_output(test_feature_matrix, initial_weights)\n",
    "predict_low_penalty = predict_output(test_feature_matrix, multiple_weights_0_penalty)\n",
    "predict_high_penalty = predict_output(test_feature_matrix, multiple_weights_high_penalty)"
   ]
  },
  {
   "cell_type": "markdown",
   "metadata": {},
   "source": [
    "Let's compute the RSS from the three above predictions using our find_rss which we wrote under simple regression"
   ]
  },
  {
   "cell_type": "code",
   "execution_count": 56,
   "metadata": {
    "collapsed": false
   },
   "outputs": [
    {
     "name": "stdout",
     "output_type": "stream",
     "text": [
      "22745.0\n",
      "5718.07941601\n",
      "22200.147319\n"
     ]
    }
   ],
   "source": [
    "rss_initial_weight = find_rss(predict_initial,test_output)\n",
    "rss_low_penalty = find_rss(predict_low_penalty,test_output)\n",
    "rss_high_penalty = find_rss(predict_high_penalty,test_output)\n",
    "\n",
    "print rss_initial_weight\n",
    "print rss_low_penalty\n",
    "print rss_high_penalty"
   ]
  },
  {
   "cell_type": "markdown",
   "metadata": {},
   "source": [
    "With this dataset, it's best if we stick with a penalty of 0 for our l2_penalty to keep RSS to a minimum. Our multiple regression model seems to outperform this one in terms of minimizing RSS. I don't think this model did a great job at predicting mpg. "
   ]
  },
  {
   "cell_type": "markdown",
   "metadata": {},
   "source": [
    "# K-Means Clustering "
   ]
  },
  {
   "cell_type": "markdown",
   "metadata": {},
   "source": [
    "Lets define a few functions which we will use for our algorithm. "
   ]
  },
  {
   "cell_type": "code",
   "execution_count": 58,
   "metadata": {
    "collapsed": true
   },
   "outputs": [],
   "source": [
    "def normalize_features(feature_matrix):\n",
    "    x = np.array(feature_matrix)\n",
    "    norms = np.linalg.norm(x,axis=0)\n",
    "    return (x/norms,norms)"
   ]
  },
  {
   "cell_type": "code",
   "execution_count": 61,
   "metadata": {
    "collapsed": false
   },
   "outputs": [],
   "source": [
    "features_train, output_train = get_numpy_data(training, model_features, 'mpg')\n",
    "features_test, output_test = get_numpy_data(testing, model_features, 'mpg')\n",
    "features_valid, output_valid = get_numpy_data(validation, model_features, 'mpg')"
   ]
  },
  {
   "cell_type": "markdown",
   "metadata": {},
   "source": [
    "Normalizing data is very important because some features might have larger weights that others and this could lead to errors. "
   ]
  },
  {
   "cell_type": "code",
   "execution_count": 62,
   "metadata": {
    "collapsed": true
   },
   "outputs": [],
   "source": [
    "features_train, norms = normalize_features(features_train) # normalize training set features (columns)\n",
    "features_test = features_test / norms # normalize test set by training set norms\n",
    "features_valid = features_valid / norms # normalize validation set by training set norms"
   ]
  },
  {
   "cell_type": "code",
   "execution_count": 68,
   "metadata": {
    "collapsed": true
   },
   "outputs": [],
   "source": [
    "#Computes the euclidian distance from the query object to all other objects\n",
    "import numpy as np\n",
    "def distances(features_train,query):\n",
    "    diff = features_train[:] - query\n",
    "    distance = np.sum(diff**2,axis=1)\n",
    "    distance = np.sqrt(distance)\n",
    "    return (distance)"
   ]
  },
  {
   "cell_type": "code",
   "execution_count": 69,
   "metadata": {
    "collapsed": true
   },
   "outputs": [],
   "source": [
    "#Implemenatation for k-nearest neighbours\n",
    "def knearest(features_train,query_set,k,output):\n",
    "    predicted_values = []\n",
    "    for j in range(0,len(query_set)):\n",
    "        #Computes the euclidian distance\n",
    "        distance = distances(features_train,query_set[j])\n",
    "        dist_vector = []\n",
    "        for i in range(0,len(distance)):\n",
    "            dist_vector.append((distance[i],i))\n",
    "        \n",
    "        #Sorts the information in ascending order\n",
    "        sort = sorted(dist_vector, key=lambda tup: tup[0])\n",
    "        keys = [i[1] for i in sort]\n",
    "        value=0\n",
    "        \n",
    "        #Finds the average of k nearest objects\n",
    "        for i in keys[:k]:\n",
    "            value+=output[i]\n",
    "        value/=k\n",
    "        predicted_values.append((value,j))\n",
    "    return predicted_values"
   ]
  },
  {
   "cell_type": "markdown",
   "metadata": {},
   "source": [
    "With this dataset, we don't know what the value of k needs to be, let's look at which value of k gives the least error. "
   ]
  },
  {
   "cell_type": "code",
   "execution_count": 73,
   "metadata": {
    "collapsed": false
   },
   "outputs": [
    {
     "name": "stdout",
     "output_type": "stream",
     "text": [
      "(3085, 13)\n",
      "(3093, 15)\n",
      "(3094, 14)\n",
      "(3136, 8)\n",
      "(3138, 7)\n",
      "(3175, 11)\n",
      "(3206, 9)\n",
      "(3220, 10)\n",
      "(3259, 12)\n",
      "(3263, 6)\n",
      "(3392, 5)\n",
      "(3468, 4)\n",
      "(4009, 3)\n",
      "(4132, 2)\n",
      "(5809, 1)\n"
     ]
    }
   ],
   "source": [
    "rss_list = []\n",
    "\n",
    "#RSS for values of k from 1 to 15\n",
    "for k in range(1,16):\n",
    "    #Predicted value on validation set\n",
    "    prediction = knearest(features_train,features_valid,k,output_train)\n",
    "    pred_list = [i[0] for i in prediction]\n",
    "    rss_list.append((find_rss(pred_list,output_valid),k))\n",
    "\n",
    "#Let's sort and print the RSS value for each value of k\n",
    "rss_all=[]\n",
    "for i in rss_list:\n",
    "    rss_all.append(i[0])\n",
    "sort = sorted(rss_list,key=lambda tup:tup[0])\n",
    "k = sort[0][1]\n",
    "for i in sort:\n",
    "    print i"
   ]
  },
  {
   "cell_type": "markdown",
   "metadata": {},
   "source": [
    "Looks like k=13 has the least RSS value. Let's plot the values."
   ]
  },
  {
   "cell_type": "code",
   "execution_count": 97,
   "metadata": {
    "collapsed": false
   },
   "outputs": [
    {
     "data": {
      "text/plain": [
       "<matplotlib.text.Text at 0x124c5e290>"
      ]
     },
     "execution_count": 97,
     "metadata": {},
     "output_type": "execute_result"
    },
    {
     "data": {
      "image/png": "[encoded data removed]",
      "text/plain": [
       "<matplotlib.figure.Figure at 0x117192fd0>"
      ]
     },
     "metadata": {},
     "output_type": "display_data"
    }
   ],
   "source": [
    "import matplotlib.pyplot as plt\n",
    "%matplotlib inline\n",
    "\n",
    "kvals = range(1, 16)\n",
    "plt.plot(kvals, rss_all,'bo-')\n",
    "plt.title('K-Means Clustering: k - RSS')\n",
    "plt.xlabel('K')\n",
    "plt.ylabel('RSS')"
   ]
  },
  {
   "cell_type": "markdown",
   "metadata": {},
   "source": [
    "Finally, let's find RSS on testing data and see if k-means can outperform multiple regression for this dataset. "
   ]
  },
  {
   "cell_type": "code",
   "execution_count": 77,
   "metadata": {
    "collapsed": false
   },
   "outputs": [
    {
     "name": "stdout",
     "output_type": "stream",
     "text": [
      "439\n"
     ]
    }
   ],
   "source": [
    "#Running RSS on testing data to measure accuracy of this model\n",
    "\n",
    "prediction = knearest(features_train,features_test,k,output_train)\n",
    "pred_list = [i[0] for i in prediction]\n",
    "print find_rss(pred_list,output_test)"
   ]
  },
  {
   "cell_type": "code",
   "execution_count": 98,
   "metadata": {
    "collapsed": false
   },
   "outputs": [
    {
     "data": {
      "text/plain": [
       "<matplotlib.text.Text at 0x124bcaad0>"
      ]
     },
     "execution_count": 98,
     "metadata": {},
     "output_type": "execute_result"
    },
    {
     "data": {
      "image/png": "[encoded data removed]",
      "text/plain": [
       "<matplotlib.figure.Figure at 0x1245e8a90>"
      ]
     },
     "metadata": {},
     "output_type": "display_data"
    }
   ],
   "source": [
    "plt.plot(testing['weight'],output_test,'.',\n",
    "        testing['weight'], test_prediction,'.')\n",
    "plt.title('K-Means Clusering: weight vs mpg')\n",
    "plt.xlabel('weight')\n",
    "plt.ylabel('MPG')"
   ]
  },
  {
   "cell_type": "markdown",
   "metadata": {},
   "source": [
    "Let's compare the different values of RSS and see which model performed best for this model based on the testing data\n",
    "\n",
    "- Simple Regression - 448 (displacement was the only feature)\n",
    "- Multiple Regression - 2321\n",
    "- Ridge Regression - 5718 (Worst performing model for this dataset)\n",
    "- K-means Clustering - 439 (Best performing model for this dataset)\n",
    "\n",
    "For this dataset, simple regression beat multiple regression - I didn't expect that to happen. \n",
    "\n",
    "I had some intuition before coding that k-means clustering was certainly gong to outperform every other method because this data seems like it's meant for k-means clustering which also happens to be my favourite ML algorithm. It's super intuitive and I'm sure most people have used it in their day-to-day lives without realising it. "
   ]
  }
 ],
 "metadata": {
  "kernelspec": {
   "display_name": "Python 2",
   "language": "python",
   "name": "python2"
  },
  "language_info": {
   "codemirror_mode": {
    "name": "ipython",
    "version": 2
   },
   "file_extension": ".py",
   "mimetype": "text/x-python",
   "name": "python",
   "nbconvert_exporter": "python",
   "pygments_lexer": "ipython2",
   "version": "2.7.11"
  }
 },
 "nbformat": 4,
 "nbformat_minor": 0
}
